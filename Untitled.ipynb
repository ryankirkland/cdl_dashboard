{
 "cells": [
  {
   "cell_type": "code",
   "execution_count": 6,
   "metadata": {},
   "outputs": [],
   "source": [
    "import pandas as pd\n",
    "\n",
    "import dash\n",
    "import dash_table\n",
    "import dash_core_components as dcc\n",
    "import dash_html_components as html\n",
    "import dash_bootstrap_components as dbc\n",
    "import dash_dangerously_set_inner_html\n",
    "from dash.dependencies import Input, Output, State\n",
    "from dash.exceptions import PreventUpdate\n",
    "import plotly.express as px\n",
    "import plotly.graph_objects as go\n",
    "import plotly.figure_factory as ff"
   ]
  },
  {
   "cell_type": "code",
   "execution_count": 2,
   "metadata": {},
   "outputs": [],
   "source": [
    "df = pd.read_csv('hp_cleaned.csv')"
   ]
  },
  {
   "cell_type": "code",
   "execution_count": 3,
   "metadata": {},
   "outputs": [
    {
     "data": {
      "text/html": [
       "<div>\n",
       "<style scoped>\n",
       "    .dataframe tbody tr th:only-of-type {\n",
       "        vertical-align: middle;\n",
       "    }\n",
       "\n",
       "    .dataframe tbody tr th {\n",
       "        vertical-align: top;\n",
       "    }\n",
       "\n",
       "    .dataframe thead th {\n",
       "        text-align: right;\n",
       "    }\n",
       "</style>\n",
       "<table border=\"1\" class=\"dataframe\">\n",
       "  <thead>\n",
       "    <tr style=\"text-align: right;\">\n",
       "      <th></th>\n",
       "      <th>Player</th>\n",
       "      <th>Mode</th>\n",
       "      <th>Team</th>\n",
       "      <th>Event</th>\n",
       "      <th>Vs Who</th>\n",
       "      <th>Date</th>\n",
       "      <th>Group / Bracket</th>\n",
       "      <th>Map ID</th>\n",
       "      <th>Series ID</th>\n",
       "      <th>Map</th>\n",
       "      <th>Result</th>\n",
       "      <th>Role</th>\n",
       "      <th>Kills</th>\n",
       "      <th>Death</th>\n",
       "      <th>K/D</th>\n",
       "      <th>Plus / Minus</th>\n",
       "      <th>Hill Time</th>\n",
       "      <th>Assists</th>\n",
       "      <th>% of Team Kills</th>\n",
       "      <th>% of Team Deaths</th>\n",
       "    </tr>\n",
       "  </thead>\n",
       "  <tbody>\n",
       "    <tr>\n",
       "      <th>0</th>\n",
       "      <td>ACHES</td>\n",
       "      <td>HP</td>\n",
       "      <td>LAG</td>\n",
       "      <td>LW</td>\n",
       "      <td>MIN</td>\n",
       "      <td>1/24/2020</td>\n",
       "      <td>G</td>\n",
       "      <td>#00010</td>\n",
       "      <td>#00003</td>\n",
       "      <td>St Petro</td>\n",
       "      <td>W</td>\n",
       "      <td>Flex</td>\n",
       "      <td>20.0</td>\n",
       "      <td>29.0</td>\n",
       "      <td>0.69</td>\n",
       "      <td>-9.0</td>\n",
       "      <td>-</td>\n",
       "      <td>-</td>\n",
       "      <td>16.5%</td>\n",
       "      <td>23.4%</td>\n",
       "    </tr>\n",
       "    <tr>\n",
       "      <th>1</th>\n",
       "      <td>ACHES</td>\n",
       "      <td>HP</td>\n",
       "      <td>LAG</td>\n",
       "      <td>LW</td>\n",
       "      <td>MIN</td>\n",
       "      <td>1/24/2020</td>\n",
       "      <td>G</td>\n",
       "      <td>#00013</td>\n",
       "      <td>#00003</td>\n",
       "      <td>Hackney</td>\n",
       "      <td>L</td>\n",
       "      <td>Flex</td>\n",
       "      <td>20.0</td>\n",
       "      <td>30.0</td>\n",
       "      <td>0.67</td>\n",
       "      <td>-10.0</td>\n",
       "      <td>-</td>\n",
       "      <td>-</td>\n",
       "      <td>20.4%</td>\n",
       "      <td>22.6%</td>\n",
       "    </tr>\n",
       "    <tr>\n",
       "      <th>2</th>\n",
       "      <td>Alexx</td>\n",
       "      <td>HP</td>\n",
       "      <td>MIN</td>\n",
       "      <td>LW</td>\n",
       "      <td>LAG</td>\n",
       "      <td>1/24/2020</td>\n",
       "      <td>G</td>\n",
       "      <td>#00013</td>\n",
       "      <td>#00003</td>\n",
       "      <td>Hackney</td>\n",
       "      <td>W</td>\n",
       "      <td>SMG</td>\n",
       "      <td>30.0</td>\n",
       "      <td>18.0</td>\n",
       "      <td>1.67</td>\n",
       "      <td>12.0</td>\n",
       "      <td>-</td>\n",
       "      <td>-</td>\n",
       "      <td>22.6%</td>\n",
       "      <td>18.4%</td>\n",
       "    </tr>\n",
       "    <tr>\n",
       "      <th>3</th>\n",
       "      <td>Alexx</td>\n",
       "      <td>HP</td>\n",
       "      <td>MIN</td>\n",
       "      <td>LW</td>\n",
       "      <td>LAG</td>\n",
       "      <td>1/24/2020</td>\n",
       "      <td>G</td>\n",
       "      <td>#00010</td>\n",
       "      <td>#00003</td>\n",
       "      <td>St Petro</td>\n",
       "      <td>L</td>\n",
       "      <td>SMG</td>\n",
       "      <td>19.0</td>\n",
       "      <td>19.0</td>\n",
       "      <td>1.00</td>\n",
       "      <td>0.0</td>\n",
       "      <td>-</td>\n",
       "      <td>-</td>\n",
       "      <td>15.3%</td>\n",
       "      <td>15.7%</td>\n",
       "    </tr>\n",
       "    <tr>\n",
       "      <th>4</th>\n",
       "      <td>Apathy</td>\n",
       "      <td>HP</td>\n",
       "      <td>SEA</td>\n",
       "      <td>LW</td>\n",
       "      <td>FL</td>\n",
       "      <td>1/24/2020</td>\n",
       "      <td>G</td>\n",
       "      <td>#00008</td>\n",
       "      <td>#00002</td>\n",
       "      <td>Azhir</td>\n",
       "      <td>L</td>\n",
       "      <td>SMG</td>\n",
       "      <td>35.0</td>\n",
       "      <td>23.0</td>\n",
       "      <td>1.52</td>\n",
       "      <td>12.0</td>\n",
       "      <td>22</td>\n",
       "      <td>-</td>\n",
       "      <td>27.6%</td>\n",
       "      <td>17.7%</td>\n",
       "    </tr>\n",
       "  </tbody>\n",
       "</table>\n",
       "</div>"
      ],
      "text/plain": [
       "   Player Mode Team Event Vs Who       Date Group / Bracket  Map ID Series ID  \\\n",
       "0   ACHES   HP  LAG    LW    MIN  1/24/2020               G  #00010    #00003   \n",
       "1   ACHES   HP  LAG    LW    MIN  1/24/2020               G  #00013    #00003   \n",
       "2   Alexx   HP  MIN    LW    LAG  1/24/2020               G  #00013    #00003   \n",
       "3   Alexx   HP  MIN    LW    LAG  1/24/2020               G  #00010    #00003   \n",
       "4  Apathy   HP  SEA    LW     FL  1/24/2020               G  #00008    #00002   \n",
       "\n",
       "        Map Result  Role  Kills  Death   K/D  Plus / Minus Hill Time Assists  \\\n",
       "0  St Petro      W  Flex   20.0   29.0  0.69          -9.0         -       -   \n",
       "1   Hackney      L  Flex   20.0   30.0  0.67         -10.0         -       -   \n",
       "2   Hackney      W   SMG   30.0   18.0  1.67          12.0         -       -   \n",
       "3  St Petro      L   SMG   19.0   19.0  1.00           0.0         -       -   \n",
       "4     Azhir      L   SMG   35.0   23.0  1.52          12.0        22       -   \n",
       "\n",
       "  % of Team Kills % of Team Deaths  \n",
       "0           16.5%            23.4%  \n",
       "1           20.4%            22.6%  \n",
       "2           22.6%            18.4%  \n",
       "3           15.3%            15.7%  \n",
       "4           27.6%            17.7%  "
      ]
     },
     "execution_count": 3,
     "metadata": {},
     "output_type": "execute_result"
    }
   ],
   "source": [
    "df.head()"
   ]
  },
  {
   "cell_type": "code",
   "execution_count": 8,
   "metadata": {},
   "outputs": [],
   "source": [
    "wuskin = df[df['Player'] == 'wuskin']"
   ]
  },
  {
   "cell_type": "code",
   "execution_count": 11,
   "metadata": {},
   "outputs": [],
   "source": [
    "wuskin = wuskin.reset_index()"
   ]
  },
  {
   "cell_type": "code",
   "execution_count": 12,
   "metadata": {},
   "outputs": [
    {
     "data": {
      "text/html": [
       "<div>\n",
       "<style scoped>\n",
       "    .dataframe tbody tr th:only-of-type {\n",
       "        vertical-align: middle;\n",
       "    }\n",
       "\n",
       "    .dataframe tbody tr th {\n",
       "        vertical-align: top;\n",
       "    }\n",
       "\n",
       "    .dataframe thead th {\n",
       "        text-align: right;\n",
       "    }\n",
       "</style>\n",
       "<table border=\"1\" class=\"dataframe\">\n",
       "  <thead>\n",
       "    <tr style=\"text-align: right;\">\n",
       "      <th></th>\n",
       "      <th>index</th>\n",
       "      <th>Player</th>\n",
       "      <th>Mode</th>\n",
       "      <th>Team</th>\n",
       "      <th>Event</th>\n",
       "      <th>Vs Who</th>\n",
       "      <th>Date</th>\n",
       "      <th>Group / Bracket</th>\n",
       "      <th>Map ID</th>\n",
       "      <th>Series ID</th>\n",
       "      <th>...</th>\n",
       "      <th>Result</th>\n",
       "      <th>Role</th>\n",
       "      <th>Kills</th>\n",
       "      <th>Death</th>\n",
       "      <th>K/D</th>\n",
       "      <th>Plus / Minus</th>\n",
       "      <th>Hill Time</th>\n",
       "      <th>Assists</th>\n",
       "      <th>% of Team Kills</th>\n",
       "      <th>% of Team Deaths</th>\n",
       "    </tr>\n",
       "  </thead>\n",
       "  <tbody>\n",
       "    <tr>\n",
       "      <th>0</th>\n",
       "      <td>135</td>\n",
       "      <td>wuskin</td>\n",
       "      <td>HP</td>\n",
       "      <td>LON</td>\n",
       "      <td>LW</td>\n",
       "      <td>NY</td>\n",
       "      <td>1/25/2020</td>\n",
       "      <td>G</td>\n",
       "      <td>#00014</td>\n",
       "      <td>#00004</td>\n",
       "      <td>...</td>\n",
       "      <td>W</td>\n",
       "      <td>AR</td>\n",
       "      <td>26.0</td>\n",
       "      <td>16.0</td>\n",
       "      <td>1.63</td>\n",
       "      <td>10.0</td>\n",
       "      <td>70</td>\n",
       "      <td>-</td>\n",
       "      <td>21.3%</td>\n",
       "      <td>15.2%</td>\n",
       "    </tr>\n",
       "    <tr>\n",
       "      <th>1</th>\n",
       "      <td>194</td>\n",
       "      <td>wuskin</td>\n",
       "      <td>HP</td>\n",
       "      <td>LON</td>\n",
       "      <td>LW</td>\n",
       "      <td>PAR</td>\n",
       "      <td>1/26/2020</td>\n",
       "      <td>G</td>\n",
       "      <td>#00035</td>\n",
       "      <td>#00009</td>\n",
       "      <td>...</td>\n",
       "      <td>L</td>\n",
       "      <td>AR</td>\n",
       "      <td>21.0</td>\n",
       "      <td>19.0</td>\n",
       "      <td>1.11</td>\n",
       "      <td>2.0</td>\n",
       "      <td>67</td>\n",
       "      <td>-</td>\n",
       "      <td>20.0%</td>\n",
       "      <td>15.7%</td>\n",
       "    </tr>\n",
       "    <tr>\n",
       "      <th>2</th>\n",
       "      <td>395</td>\n",
       "      <td>wuskin</td>\n",
       "      <td>HP</td>\n",
       "      <td>LON</td>\n",
       "      <td>LON</td>\n",
       "      <td>TOR</td>\n",
       "      <td>2/8/2020</td>\n",
       "      <td>G</td>\n",
       "      <td>#00059</td>\n",
       "      <td>#00016</td>\n",
       "      <td>...</td>\n",
       "      <td>W</td>\n",
       "      <td>AR</td>\n",
       "      <td>37.0</td>\n",
       "      <td>18.0</td>\n",
       "      <td>2.06</td>\n",
       "      <td>19.0</td>\n",
       "      <td>68</td>\n",
       "      <td>NaN</td>\n",
       "      <td>31.0%</td>\n",
       "      <td>15.0%</td>\n",
       "    </tr>\n",
       "    <tr>\n",
       "      <th>3</th>\n",
       "      <td>396</td>\n",
       "      <td>wuskin</td>\n",
       "      <td>HP</td>\n",
       "      <td>LON</td>\n",
       "      <td>LON</td>\n",
       "      <td>NY</td>\n",
       "      <td>2/8/2020</td>\n",
       "      <td>G</td>\n",
       "      <td>#00070</td>\n",
       "      <td>#00018</td>\n",
       "      <td>...</td>\n",
       "      <td>W</td>\n",
       "      <td>AR</td>\n",
       "      <td>28.0</td>\n",
       "      <td>17.0</td>\n",
       "      <td>1.65</td>\n",
       "      <td>11.0</td>\n",
       "      <td>63</td>\n",
       "      <td>NaN</td>\n",
       "      <td>22.0%</td>\n",
       "      <td>17.0%</td>\n",
       "    </tr>\n",
       "    <tr>\n",
       "      <th>4</th>\n",
       "      <td>397</td>\n",
       "      <td>wuskin</td>\n",
       "      <td>HP</td>\n",
       "      <td>LON</td>\n",
       "      <td>LON</td>\n",
       "      <td>TOR</td>\n",
       "      <td>2/8/2020</td>\n",
       "      <td>G</td>\n",
       "      <td>#00062</td>\n",
       "      <td>#00016</td>\n",
       "      <td>...</td>\n",
       "      <td>W</td>\n",
       "      <td>AR</td>\n",
       "      <td>25.0</td>\n",
       "      <td>16.0</td>\n",
       "      <td>1.56</td>\n",
       "      <td>9.0</td>\n",
       "      <td>93</td>\n",
       "      <td>NaN</td>\n",
       "      <td>19.0%</td>\n",
       "      <td>13.0%</td>\n",
       "    </tr>\n",
       "    <tr>\n",
       "      <th>5</th>\n",
       "      <td>398</td>\n",
       "      <td>wuskin</td>\n",
       "      <td>HP</td>\n",
       "      <td>LON</td>\n",
       "      <td>LON</td>\n",
       "      <td>NY</td>\n",
       "      <td>2/8/2020</td>\n",
       "      <td>G</td>\n",
       "      <td>#00067</td>\n",
       "      <td>#00018</td>\n",
       "      <td>...</td>\n",
       "      <td>L</td>\n",
       "      <td>AR</td>\n",
       "      <td>23.0</td>\n",
       "      <td>20.0</td>\n",
       "      <td>1.15</td>\n",
       "      <td>3.0</td>\n",
       "      <td>63</td>\n",
       "      <td>NaN</td>\n",
       "      <td>20.0%</td>\n",
       "      <td>17.0%</td>\n",
       "    </tr>\n",
       "    <tr>\n",
       "      <th>6</th>\n",
       "      <td>399</td>\n",
       "      <td>wuskin</td>\n",
       "      <td>HP</td>\n",
       "      <td>LON</td>\n",
       "      <td>LON</td>\n",
       "      <td>DAL</td>\n",
       "      <td>2/8/2020</td>\n",
       "      <td>B</td>\n",
       "      <td>#00088</td>\n",
       "      <td>#00023</td>\n",
       "      <td>...</td>\n",
       "      <td>W</td>\n",
       "      <td>AR</td>\n",
       "      <td>35.0</td>\n",
       "      <td>21.0</td>\n",
       "      <td>1.67</td>\n",
       "      <td>14.0</td>\n",
       "      <td>24</td>\n",
       "      <td>NaN</td>\n",
       "      <td>26.0%</td>\n",
       "      <td>18.0%</td>\n",
       "    </tr>\n",
       "    <tr>\n",
       "      <th>7</th>\n",
       "      <td>400</td>\n",
       "      <td>wuskin</td>\n",
       "      <td>HP</td>\n",
       "      <td>LON</td>\n",
       "      <td>LON</td>\n",
       "      <td>DAL</td>\n",
       "      <td>2/8/2020</td>\n",
       "      <td>B</td>\n",
       "      <td>#00091</td>\n",
       "      <td>#00023</td>\n",
       "      <td>...</td>\n",
       "      <td>L</td>\n",
       "      <td>AR</td>\n",
       "      <td>30.0</td>\n",
       "      <td>18.0</td>\n",
       "      <td>1.67</td>\n",
       "      <td>12.0</td>\n",
       "      <td>0</td>\n",
       "      <td>NaN</td>\n",
       "      <td>26.0%</td>\n",
       "      <td>15.0%</td>\n",
       "    </tr>\n",
       "    <tr>\n",
       "      <th>8</th>\n",
       "      <td>649</td>\n",
       "      <td>wuskin</td>\n",
       "      <td>HP</td>\n",
       "      <td>LON</td>\n",
       "      <td>ATL</td>\n",
       "      <td>ATL</td>\n",
       "      <td>2/22/2020</td>\n",
       "      <td>G</td>\n",
       "      <td>#00125</td>\n",
       "      <td>#00032</td>\n",
       "      <td>...</td>\n",
       "      <td>L</td>\n",
       "      <td>AR</td>\n",
       "      <td>30.0</td>\n",
       "      <td>17.0</td>\n",
       "      <td>1.76</td>\n",
       "      <td>13.0</td>\n",
       "      <td>11</td>\n",
       "      <td>9</td>\n",
       "      <td>26.0%</td>\n",
       "      <td>15.0%</td>\n",
       "    </tr>\n",
       "    <tr>\n",
       "      <th>9</th>\n",
       "      <td>650</td>\n",
       "      <td>wuskin</td>\n",
       "      <td>HP</td>\n",
       "      <td>LON</td>\n",
       "      <td>ATL</td>\n",
       "      <td>FL</td>\n",
       "      <td>2/22/2020</td>\n",
       "      <td>G</td>\n",
       "      <td>#00108</td>\n",
       "      <td>#00027</td>\n",
       "      <td>...</td>\n",
       "      <td>W</td>\n",
       "      <td>AR</td>\n",
       "      <td>29.0</td>\n",
       "      <td>13.0</td>\n",
       "      <td>2.23</td>\n",
       "      <td>16.0</td>\n",
       "      <td>59</td>\n",
       "      <td>NaN</td>\n",
       "      <td>23.0%</td>\n",
       "      <td>14.0%</td>\n",
       "    </tr>\n",
       "    <tr>\n",
       "      <th>10</th>\n",
       "      <td>651</td>\n",
       "      <td>wuskin</td>\n",
       "      <td>HP</td>\n",
       "      <td>LON</td>\n",
       "      <td>ATL</td>\n",
       "      <td>ATL</td>\n",
       "      <td>2/22/2020</td>\n",
       "      <td>G</td>\n",
       "      <td>#00128</td>\n",
       "      <td>#00032</td>\n",
       "      <td>...</td>\n",
       "      <td>L</td>\n",
       "      <td>AR</td>\n",
       "      <td>27.0</td>\n",
       "      <td>26.0</td>\n",
       "      <td>1.04</td>\n",
       "      <td>1.0</td>\n",
       "      <td>14</td>\n",
       "      <td>9</td>\n",
       "      <td>18.0%</td>\n",
       "      <td>18.0%</td>\n",
       "    </tr>\n",
       "    <tr>\n",
       "      <th>11</th>\n",
       "      <td>652</td>\n",
       "      <td>wuskin</td>\n",
       "      <td>HP</td>\n",
       "      <td>LON</td>\n",
       "      <td>ATL</td>\n",
       "      <td>FL</td>\n",
       "      <td>2/22/2020</td>\n",
       "      <td>G</td>\n",
       "      <td>#00105</td>\n",
       "      <td>#00027</td>\n",
       "      <td>...</td>\n",
       "      <td>W</td>\n",
       "      <td>AR</td>\n",
       "      <td>23.0</td>\n",
       "      <td>12.0</td>\n",
       "      <td>1.92</td>\n",
       "      <td>11.0</td>\n",
       "      <td>50</td>\n",
       "      <td>8</td>\n",
       "      <td>19.0%</td>\n",
       "      <td>14.0%</td>\n",
       "    </tr>\n",
       "    <tr>\n",
       "      <th>12</th>\n",
       "      <td>653</td>\n",
       "      <td>wuskin</td>\n",
       "      <td>HP</td>\n",
       "      <td>LON</td>\n",
       "      <td>ATL</td>\n",
       "      <td>FL</td>\n",
       "      <td>2/22/2020</td>\n",
       "      <td>G</td>\n",
       "      <td>#00141</td>\n",
       "      <td>#00035</td>\n",
       "      <td>...</td>\n",
       "      <td>W</td>\n",
       "      <td>AR</td>\n",
       "      <td>30.0</td>\n",
       "      <td>18.0</td>\n",
       "      <td>1.67</td>\n",
       "      <td>12.0</td>\n",
       "      <td>16</td>\n",
       "      <td>9</td>\n",
       "      <td>23.0%</td>\n",
       "      <td>16.0%</td>\n",
       "    </tr>\n",
       "    <tr>\n",
       "      <th>13</th>\n",
       "      <td>654</td>\n",
       "      <td>wuskin</td>\n",
       "      <td>HP</td>\n",
       "      <td>LON</td>\n",
       "      <td>ATL</td>\n",
       "      <td>FL</td>\n",
       "      <td>2/22/2020</td>\n",
       "      <td>G</td>\n",
       "      <td>#00138</td>\n",
       "      <td>#00035</td>\n",
       "      <td>...</td>\n",
       "      <td>L</td>\n",
       "      <td>AR</td>\n",
       "      <td>28.0</td>\n",
       "      <td>22.0</td>\n",
       "      <td>1.27</td>\n",
       "      <td>6.0</td>\n",
       "      <td>77</td>\n",
       "      <td>7</td>\n",
       "      <td>23.0%</td>\n",
       "      <td>16.0%</td>\n",
       "    </tr>\n",
       "    <tr>\n",
       "      <th>14</th>\n",
       "      <td>1168</td>\n",
       "      <td>wuskin</td>\n",
       "      <td>HP</td>\n",
       "      <td>LON</td>\n",
       "      <td>CHI</td>\n",
       "      <td>ATL</td>\n",
       "      <td>4/24/2020</td>\n",
       "      <td>G</td>\n",
       "      <td>#00261</td>\n",
       "      <td>#00065</td>\n",
       "      <td>...</td>\n",
       "      <td>L</td>\n",
       "      <td>AR</td>\n",
       "      <td>33.0</td>\n",
       "      <td>28.0</td>\n",
       "      <td>1.18</td>\n",
       "      <td>5.0</td>\n",
       "      <td>29</td>\n",
       "      <td>NaN</td>\n",
       "      <td>21.7%</td>\n",
       "      <td>15.5%</td>\n",
       "    </tr>\n",
       "    <tr>\n",
       "      <th>15</th>\n",
       "      <td>1285</td>\n",
       "      <td>wuskin</td>\n",
       "      <td>HP</td>\n",
       "      <td>LON</td>\n",
       "      <td>CHI</td>\n",
       "      <td>CHI</td>\n",
       "      <td>4/25/2020</td>\n",
       "      <td>G</td>\n",
       "      <td>#00288</td>\n",
       "      <td>#00072</td>\n",
       "      <td>...</td>\n",
       "      <td>L</td>\n",
       "      <td>AR</td>\n",
       "      <td>15.0</td>\n",
       "      <td>23.0</td>\n",
       "      <td>0.65</td>\n",
       "      <td>-8.0</td>\n",
       "      <td>41</td>\n",
       "      <td>NaN</td>\n",
       "      <td>10.4%</td>\n",
       "      <td>17.8%</td>\n",
       "    </tr>\n",
       "    <tr>\n",
       "      <th>16</th>\n",
       "      <td>1286</td>\n",
       "      <td>wuskin</td>\n",
       "      <td>HP</td>\n",
       "      <td>LON</td>\n",
       "      <td>CHI</td>\n",
       "      <td>CHI</td>\n",
       "      <td>4/25/2020</td>\n",
       "      <td>G</td>\n",
       "      <td>#00291</td>\n",
       "      <td>#00072</td>\n",
       "      <td>...</td>\n",
       "      <td>L</td>\n",
       "      <td>AR</td>\n",
       "      <td>23.0</td>\n",
       "      <td>32.0</td>\n",
       "      <td>0.72</td>\n",
       "      <td>-9.0</td>\n",
       "      <td>54</td>\n",
       "      <td>11</td>\n",
       "      <td>17.6%</td>\n",
       "      <td>22.2%</td>\n",
       "    </tr>\n",
       "    <tr>\n",
       "      <th>17</th>\n",
       "      <td>1405</td>\n",
       "      <td>wuskin</td>\n",
       "      <td>HP</td>\n",
       "      <td>LON</td>\n",
       "      <td>FL</td>\n",
       "      <td>OGLA</td>\n",
       "      <td>5/8/2020</td>\n",
       "      <td>G</td>\n",
       "      <td>#00315</td>\n",
       "      <td>#00079</td>\n",
       "      <td>...</td>\n",
       "      <td>W</td>\n",
       "      <td>AR</td>\n",
       "      <td>34.0</td>\n",
       "      <td>16.0</td>\n",
       "      <td>2.13</td>\n",
       "      <td>18.0</td>\n",
       "      <td>64.0</td>\n",
       "      <td>5</td>\n",
       "      <td>23.4%</td>\n",
       "      <td>13.8%</td>\n",
       "    </tr>\n",
       "    <tr>\n",
       "      <th>18</th>\n",
       "      <td>1406</td>\n",
       "      <td>wuskin</td>\n",
       "      <td>HP</td>\n",
       "      <td>LON</td>\n",
       "      <td>FL</td>\n",
       "      <td>OGLA</td>\n",
       "      <td>5/8/2020</td>\n",
       "      <td>G</td>\n",
       "      <td>#00318</td>\n",
       "      <td>#00079</td>\n",
       "      <td>...</td>\n",
       "      <td>W</td>\n",
       "      <td>AR</td>\n",
       "      <td>24.0</td>\n",
       "      <td>25.0</td>\n",
       "      <td>0.96</td>\n",
       "      <td>-1.0</td>\n",
       "      <td>62.0</td>\n",
       "      <td>5</td>\n",
       "      <td>16.3%</td>\n",
       "      <td>17.4%</td>\n",
       "    </tr>\n",
       "    <tr>\n",
       "      <th>19</th>\n",
       "      <td>1485</td>\n",
       "      <td>wuskin</td>\n",
       "      <td>HP</td>\n",
       "      <td>LON</td>\n",
       "      <td>FL</td>\n",
       "      <td>ATL</td>\n",
       "      <td>5/9/2020</td>\n",
       "      <td>G</td>\n",
       "      <td>#00327</td>\n",
       "      <td>#00082</td>\n",
       "      <td>...</td>\n",
       "      <td>L</td>\n",
       "      <td>AR</td>\n",
       "      <td>8.0</td>\n",
       "      <td>12.0</td>\n",
       "      <td>0.73</td>\n",
       "      <td>-4.0</td>\n",
       "      <td>43.0</td>\n",
       "      <td>4</td>\n",
       "      <td>14.0%</td>\n",
       "      <td>13.4%</td>\n",
       "    </tr>\n",
       "    <tr>\n",
       "      <th>20</th>\n",
       "      <td>1486</td>\n",
       "      <td>wuskin</td>\n",
       "      <td>HP</td>\n",
       "      <td>LON</td>\n",
       "      <td>FL</td>\n",
       "      <td>ATL</td>\n",
       "      <td>5/9/2020</td>\n",
       "      <td>G</td>\n",
       "      <td>#00330</td>\n",
       "      <td>#00082</td>\n",
       "      <td>...</td>\n",
       "      <td>L</td>\n",
       "      <td>AR</td>\n",
       "      <td>15.0</td>\n",
       "      <td>27.0</td>\n",
       "      <td>0.56</td>\n",
       "      <td>-12.0</td>\n",
       "      <td>11.0</td>\n",
       "      <td>10</td>\n",
       "      <td>13.2%</td>\n",
       "      <td>18.1%</td>\n",
       "    </tr>\n",
       "    <tr>\n",
       "      <th>21</th>\n",
       "      <td>1487</td>\n",
       "      <td>wuskin</td>\n",
       "      <td>HP</td>\n",
       "      <td>LON</td>\n",
       "      <td>FL</td>\n",
       "      <td>OGLA</td>\n",
       "      <td>5/9/2020</td>\n",
       "      <td>G</td>\n",
       "      <td>#00341</td>\n",
       "      <td>#00086</td>\n",
       "      <td>...</td>\n",
       "      <td>L</td>\n",
       "      <td>AR</td>\n",
       "      <td>30.0</td>\n",
       "      <td>23.0</td>\n",
       "      <td>1.30</td>\n",
       "      <td>7.0</td>\n",
       "      <td>55.0</td>\n",
       "      <td>8</td>\n",
       "      <td>22.6%</td>\n",
       "      <td>17.2%</td>\n",
       "    </tr>\n",
       "    <tr>\n",
       "      <th>22</th>\n",
       "      <td>1623</td>\n",
       "      <td>wuskin</td>\n",
       "      <td>HP</td>\n",
       "      <td>LON</td>\n",
       "      <td>SEA</td>\n",
       "      <td>LAG</td>\n",
       "      <td>5/22/2020</td>\n",
       "      <td>G</td>\n",
       "      <td>#00365</td>\n",
       "      <td>#00092</td>\n",
       "      <td>...</td>\n",
       "      <td>W</td>\n",
       "      <td>M4</td>\n",
       "      <td>24.0</td>\n",
       "      <td>15.0</td>\n",
       "      <td>1.60</td>\n",
       "      <td>9.0</td>\n",
       "      <td>50</td>\n",
       "      <td>NaN</td>\n",
       "      <td>17.4%</td>\n",
       "      <td>13.0%</td>\n",
       "    </tr>\n",
       "    <tr>\n",
       "      <th>23</th>\n",
       "      <td>1624</td>\n",
       "      <td>wuskin</td>\n",
       "      <td>HP</td>\n",
       "      <td>LON</td>\n",
       "      <td>SEA</td>\n",
       "      <td>LAG</td>\n",
       "      <td>5/22/2020</td>\n",
       "      <td>G</td>\n",
       "      <td>#00368</td>\n",
       "      <td>#00092</td>\n",
       "      <td>...</td>\n",
       "      <td>L</td>\n",
       "      <td>M4</td>\n",
       "      <td>20.0</td>\n",
       "      <td>16.0</td>\n",
       "      <td>1.25</td>\n",
       "      <td>4.0</td>\n",
       "      <td>34</td>\n",
       "      <td>4</td>\n",
       "      <td>18.7%</td>\n",
       "      <td>15.0%</td>\n",
       "    </tr>\n",
       "    <tr>\n",
       "      <th>24</th>\n",
       "      <td>1714</td>\n",
       "      <td>wuskin</td>\n",
       "      <td>HP</td>\n",
       "      <td>LON</td>\n",
       "      <td>SEA</td>\n",
       "      <td>NY</td>\n",
       "      <td>5/23/2020</td>\n",
       "      <td>G</td>\n",
       "      <td>#00382</td>\n",
       "      <td>#00096</td>\n",
       "      <td>...</td>\n",
       "      <td>W</td>\n",
       "      <td>M4</td>\n",
       "      <td>10.0</td>\n",
       "      <td>18.0</td>\n",
       "      <td>0.56</td>\n",
       "      <td>-8.0</td>\n",
       "      <td>103</td>\n",
       "      <td>6</td>\n",
       "      <td>8.7%</td>\n",
       "      <td>15.8%</td>\n",
       "    </tr>\n",
       "    <tr>\n",
       "      <th>25</th>\n",
       "      <td>1771</td>\n",
       "      <td>wuskin</td>\n",
       "      <td>HP</td>\n",
       "      <td>LON</td>\n",
       "      <td>SEA</td>\n",
       "      <td>OGLA</td>\n",
       "      <td>5/24/2020</td>\n",
       "      <td>B</td>\n",
       "      <td>#00400</td>\n",
       "      <td>#00101</td>\n",
       "      <td>...</td>\n",
       "      <td>W</td>\n",
       "      <td>M4</td>\n",
       "      <td>26.0</td>\n",
       "      <td>24.0</td>\n",
       "      <td>1.08</td>\n",
       "      <td>2.0</td>\n",
       "      <td>20</td>\n",
       "      <td>11</td>\n",
       "      <td>17.1%</td>\n",
       "      <td>18.0%</td>\n",
       "    </tr>\n",
       "    <tr>\n",
       "      <th>26</th>\n",
       "      <td>1772</td>\n",
       "      <td>wuskin</td>\n",
       "      <td>HP</td>\n",
       "      <td>LON</td>\n",
       "      <td>SEA</td>\n",
       "      <td>OGLA</td>\n",
       "      <td>5/24/2020</td>\n",
       "      <td>B</td>\n",
       "      <td>#00403</td>\n",
       "      <td>#00101</td>\n",
       "      <td>...</td>\n",
       "      <td>L</td>\n",
       "      <td>M4</td>\n",
       "      <td>21.0</td>\n",
       "      <td>28.0</td>\n",
       "      <td>0.75</td>\n",
       "      <td>-7.0</td>\n",
       "      <td>56</td>\n",
       "      <td>16</td>\n",
       "      <td>14.0%</td>\n",
       "      <td>18.5%</td>\n",
       "    </tr>\n",
       "    <tr>\n",
       "      <th>27</th>\n",
       "      <td>1773</td>\n",
       "      <td>wuskin</td>\n",
       "      <td>HP</td>\n",
       "      <td>LON</td>\n",
       "      <td>SEA</td>\n",
       "      <td>CHI</td>\n",
       "      <td>5/24/2020</td>\n",
       "      <td>B</td>\n",
       "      <td>#00409</td>\n",
       "      <td>#00103</td>\n",
       "      <td>...</td>\n",
       "      <td>L</td>\n",
       "      <td>M4</td>\n",
       "      <td>16.0</td>\n",
       "      <td>18.0</td>\n",
       "      <td>0.89</td>\n",
       "      <td>-2.0</td>\n",
       "      <td>62</td>\n",
       "      <td>12</td>\n",
       "      <td>14.0%</td>\n",
       "      <td>14.8%</td>\n",
       "    </tr>\n",
       "    <tr>\n",
       "      <th>28</th>\n",
       "      <td>1774</td>\n",
       "      <td>wuskin</td>\n",
       "      <td>HP</td>\n",
       "      <td>LON</td>\n",
       "      <td>SEA</td>\n",
       "      <td>CHI</td>\n",
       "      <td>5/24/2020</td>\n",
       "      <td>B</td>\n",
       "      <td>#00412</td>\n",
       "      <td>#00103</td>\n",
       "      <td>...</td>\n",
       "      <td>L</td>\n",
       "      <td>M4</td>\n",
       "      <td>15.0</td>\n",
       "      <td>26.0</td>\n",
       "      <td>0.58</td>\n",
       "      <td>-11.0</td>\n",
       "      <td>5</td>\n",
       "      <td>6</td>\n",
       "      <td>16.7%</td>\n",
       "      <td>19.3%</td>\n",
       "    </tr>\n",
       "    <tr>\n",
       "      <th>29</th>\n",
       "      <td>2034</td>\n",
       "      <td>wuskin</td>\n",
       "      <td>HP</td>\n",
       "      <td>LON</td>\n",
       "      <td>PAR</td>\n",
       "      <td>DAL</td>\n",
       "      <td>6/19</td>\n",
       "      <td>G</td>\n",
       "      <td>#00474</td>\n",
       "      <td>#00118</td>\n",
       "      <td>...</td>\n",
       "      <td>L</td>\n",
       "      <td>M4</td>\n",
       "      <td>20.0</td>\n",
       "      <td>17.0</td>\n",
       "      <td>1.18</td>\n",
       "      <td>3.0</td>\n",
       "      <td>15</td>\n",
       "      <td>2</td>\n",
       "      <td>24.4%</td>\n",
       "      <td>15.5%</td>\n",
       "    </tr>\n",
       "    <tr>\n",
       "      <th>30</th>\n",
       "      <td>2099</td>\n",
       "      <td>wuskin</td>\n",
       "      <td>HP</td>\n",
       "      <td>LON</td>\n",
       "      <td>PAR</td>\n",
       "      <td>PAR</td>\n",
       "      <td>6/20</td>\n",
       "      <td>G</td>\n",
       "      <td>#00500</td>\n",
       "      <td>#00124</td>\n",
       "      <td>...</td>\n",
       "      <td>W</td>\n",
       "      <td>M4</td>\n",
       "      <td>25.0</td>\n",
       "      <td>18.0</td>\n",
       "      <td>1.39</td>\n",
       "      <td>7.0</td>\n",
       "      <td>49</td>\n",
       "      <td>NaN</td>\n",
       "      <td>19.7%</td>\n",
       "      <td>15.5%</td>\n",
       "    </tr>\n",
       "    <tr>\n",
       "      <th>31</th>\n",
       "      <td>2114</td>\n",
       "      <td>wuskin</td>\n",
       "      <td>HP</td>\n",
       "      <td>LON</td>\n",
       "      <td>PAR</td>\n",
       "      <td>DAL</td>\n",
       "      <td>6/20</td>\n",
       "      <td>G</td>\n",
       "      <td>#00508</td>\n",
       "      <td>#00126</td>\n",
       "      <td>...</td>\n",
       "      <td>L</td>\n",
       "      <td>M4</td>\n",
       "      <td>15.0</td>\n",
       "      <td>19.0</td>\n",
       "      <td>0.79</td>\n",
       "      <td>-4.0</td>\n",
       "      <td>58</td>\n",
       "      <td>5</td>\n",
       "      <td>16.3%</td>\n",
       "      <td>16.8%</td>\n",
       "    </tr>\n",
       "    <tr>\n",
       "      <th>32</th>\n",
       "      <td>2154</td>\n",
       "      <td>wuskin</td>\n",
       "      <td>HP</td>\n",
       "      <td>LON</td>\n",
       "      <td>PAR</td>\n",
       "      <td>DAL</td>\n",
       "      <td>6/19</td>\n",
       "      <td>G</td>\n",
       "      <td>#00477</td>\n",
       "      <td>#00118</td>\n",
       "      <td>...</td>\n",
       "      <td>W</td>\n",
       "      <td>M4</td>\n",
       "      <td>22.0</td>\n",
       "      <td>22.0</td>\n",
       "      <td>1.00</td>\n",
       "      <td>0.0</td>\n",
       "      <td>43</td>\n",
       "      <td>NaN</td>\n",
       "      <td>18.5%</td>\n",
       "      <td>18.0%</td>\n",
       "    </tr>\n",
       "    <tr>\n",
       "      <th>33</th>\n",
       "      <td>2209</td>\n",
       "      <td>wuskin</td>\n",
       "      <td>HP</td>\n",
       "      <td>LON</td>\n",
       "      <td>PAR</td>\n",
       "      <td>PAR</td>\n",
       "      <td>6/20</td>\n",
       "      <td>G</td>\n",
       "      <td>#00503</td>\n",
       "      <td>#00124</td>\n",
       "      <td>...</td>\n",
       "      <td>W</td>\n",
       "      <td>M4</td>\n",
       "      <td>28.0</td>\n",
       "      <td>17.0</td>\n",
       "      <td>1.65</td>\n",
       "      <td>11.0</td>\n",
       "      <td>34</td>\n",
       "      <td>8</td>\n",
       "      <td>23.5%</td>\n",
       "      <td>14.8%</td>\n",
       "    </tr>\n",
       "    <tr>\n",
       "      <th>34</th>\n",
       "      <td>2254</td>\n",
       "      <td>wuskin</td>\n",
       "      <td>HP</td>\n",
       "      <td>LON</td>\n",
       "      <td>NY</td>\n",
       "      <td>CHI</td>\n",
       "      <td>7/10</td>\n",
       "      <td>G</td>\n",
       "      <td>#00528</td>\n",
       "      <td>#00131</td>\n",
       "      <td>...</td>\n",
       "      <td>W</td>\n",
       "      <td>AR</td>\n",
       "      <td>31.0</td>\n",
       "      <td>18.0</td>\n",
       "      <td>1.72</td>\n",
       "      <td>13.0</td>\n",
       "      <td>41</td>\n",
       "      <td>NaN</td>\n",
       "      <td>21.8%</td>\n",
       "      <td>14.9%</td>\n",
       "    </tr>\n",
       "    <tr>\n",
       "      <th>35</th>\n",
       "      <td>2319</td>\n",
       "      <td>wuskin</td>\n",
       "      <td>HP</td>\n",
       "      <td>LON</td>\n",
       "      <td>NY</td>\n",
       "      <td>MIN</td>\n",
       "      <td>7/11</td>\n",
       "      <td>G</td>\n",
       "      <td>#00553</td>\n",
       "      <td>#00137</td>\n",
       "      <td>...</td>\n",
       "      <td>W</td>\n",
       "      <td>AR</td>\n",
       "      <td>26.0</td>\n",
       "      <td>20.0</td>\n",
       "      <td>1.30</td>\n",
       "      <td>6.0</td>\n",
       "      <td>32</td>\n",
       "      <td>7</td>\n",
       "      <td>20.2%</td>\n",
       "      <td>16.1%</td>\n",
       "    </tr>\n",
       "    <tr>\n",
       "      <th>36</th>\n",
       "      <td>2334</td>\n",
       "      <td>wuskin</td>\n",
       "      <td>HP</td>\n",
       "      <td>LON</td>\n",
       "      <td>NY</td>\n",
       "      <td>NY</td>\n",
       "      <td>7/11</td>\n",
       "      <td>G</td>\n",
       "      <td>#00561</td>\n",
       "      <td>#00139</td>\n",
       "      <td>...</td>\n",
       "      <td>W</td>\n",
       "      <td>AR</td>\n",
       "      <td>28.0</td>\n",
       "      <td>21.0</td>\n",
       "      <td>1.33</td>\n",
       "      <td>7.0</td>\n",
       "      <td>35</td>\n",
       "      <td>6</td>\n",
       "      <td>21.9%</td>\n",
       "      <td>16.0%</td>\n",
       "    </tr>\n",
       "    <tr>\n",
       "      <th>37</th>\n",
       "      <td>2384</td>\n",
       "      <td>wuskin</td>\n",
       "      <td>HP</td>\n",
       "      <td>LON</td>\n",
       "      <td>NY</td>\n",
       "      <td>CHI</td>\n",
       "      <td>7/10</td>\n",
       "      <td>G</td>\n",
       "      <td>#00531</td>\n",
       "      <td>#00131</td>\n",
       "      <td>...</td>\n",
       "      <td>L</td>\n",
       "      <td>AR</td>\n",
       "      <td>26.0</td>\n",
       "      <td>22.0</td>\n",
       "      <td>1.18</td>\n",
       "      <td>4.0</td>\n",
       "      <td>0</td>\n",
       "      <td>6</td>\n",
       "      <td>24.5%</td>\n",
       "      <td>18.6%</td>\n",
       "    </tr>\n",
       "    <tr>\n",
       "      <th>38</th>\n",
       "      <td>2439</td>\n",
       "      <td>wuskin</td>\n",
       "      <td>HP</td>\n",
       "      <td>LON</td>\n",
       "      <td>NY</td>\n",
       "      <td>MIN</td>\n",
       "      <td>7/11</td>\n",
       "      <td>G</td>\n",
       "      <td>#00556</td>\n",
       "      <td>#00137</td>\n",
       "      <td>...</td>\n",
       "      <td>L</td>\n",
       "      <td>AR</td>\n",
       "      <td>17.0</td>\n",
       "      <td>16.0</td>\n",
       "      <td>1.06</td>\n",
       "      <td>1.0</td>\n",
       "      <td>66</td>\n",
       "      <td>5</td>\n",
       "      <td>20.5%</td>\n",
       "      <td>15.7%</td>\n",
       "    </tr>\n",
       "    <tr>\n",
       "      <th>39</th>\n",
       "      <td>2444</td>\n",
       "      <td>wuskin</td>\n",
       "      <td>HP</td>\n",
       "      <td>LON</td>\n",
       "      <td>NY</td>\n",
       "      <td>NY</td>\n",
       "      <td>7/11</td>\n",
       "      <td>G</td>\n",
       "      <td>#00564</td>\n",
       "      <td>#00139</td>\n",
       "      <td>...</td>\n",
       "      <td>L</td>\n",
       "      <td>AR</td>\n",
       "      <td>22.0</td>\n",
       "      <td>23.0</td>\n",
       "      <td>0.96</td>\n",
       "      <td>-1.0</td>\n",
       "      <td>62</td>\n",
       "      <td>9</td>\n",
       "      <td>18.8%</td>\n",
       "      <td>16.9%</td>\n",
       "    </tr>\n",
       "    <tr>\n",
       "      <th>40</th>\n",
       "      <td>2464</td>\n",
       "      <td>wuskin</td>\n",
       "      <td>HP</td>\n",
       "      <td>LON</td>\n",
       "      <td>LON</td>\n",
       "      <td>SEA</td>\n",
       "      <td>7/17</td>\n",
       "      <td>G</td>\n",
       "      <td>#00578</td>\n",
       "      <td>#00144</td>\n",
       "      <td>...</td>\n",
       "      <td>W</td>\n",
       "      <td>AR</td>\n",
       "      <td>20.0</td>\n",
       "      <td>18.0</td>\n",
       "      <td>1.11</td>\n",
       "      <td>2.0</td>\n",
       "      <td>43</td>\n",
       "      <td>15</td>\n",
       "      <td>15.7%</td>\n",
       "      <td>15.5%</td>\n",
       "    </tr>\n",
       "    <tr>\n",
       "      <th>41</th>\n",
       "      <td>2509</td>\n",
       "      <td>wuskin</td>\n",
       "      <td>HP</td>\n",
       "      <td>LON</td>\n",
       "      <td>LON</td>\n",
       "      <td>FL</td>\n",
       "      <td>7/18</td>\n",
       "      <td>G</td>\n",
       "      <td>#00593</td>\n",
       "      <td>#00148</td>\n",
       "      <td>...</td>\n",
       "      <td>L</td>\n",
       "      <td>AR</td>\n",
       "      <td>17.0</td>\n",
       "      <td>19.0</td>\n",
       "      <td>0.89</td>\n",
       "      <td>-2.0</td>\n",
       "      <td>66</td>\n",
       "      <td>4</td>\n",
       "      <td>18.9%</td>\n",
       "      <td>16.5%</td>\n",
       "    </tr>\n",
       "    <tr>\n",
       "      <th>42</th>\n",
       "      <td>2559</td>\n",
       "      <td>wuskin</td>\n",
       "      <td>HP</td>\n",
       "      <td>LON</td>\n",
       "      <td>LON</td>\n",
       "      <td>PAR</td>\n",
       "      <td>7/19</td>\n",
       "      <td>B</td>\n",
       "      <td>#00613</td>\n",
       "      <td>#00153</td>\n",
       "      <td>...</td>\n",
       "      <td>W</td>\n",
       "      <td>AR</td>\n",
       "      <td>28.0</td>\n",
       "      <td>16.0</td>\n",
       "      <td>1.75</td>\n",
       "      <td>12.0</td>\n",
       "      <td>61</td>\n",
       "      <td>100</td>\n",
       "      <td>19.9%</td>\n",
       "      <td>13.6%</td>\n",
       "    </tr>\n",
       "    <tr>\n",
       "      <th>43</th>\n",
       "      <td>2594</td>\n",
       "      <td>wuskin</td>\n",
       "      <td>HP</td>\n",
       "      <td>LON</td>\n",
       "      <td>LON</td>\n",
       "      <td>SEA</td>\n",
       "      <td>7/17</td>\n",
       "      <td>G</td>\n",
       "      <td>#00581</td>\n",
       "      <td>#00144</td>\n",
       "      <td>...</td>\n",
       "      <td>W</td>\n",
       "      <td>AR</td>\n",
       "      <td>12.0</td>\n",
       "      <td>9.0</td>\n",
       "      <td>1.33</td>\n",
       "      <td>3.0</td>\n",
       "      <td>0</td>\n",
       "      <td>6</td>\n",
       "      <td>15.6%</td>\n",
       "      <td>13.8%</td>\n",
       "    </tr>\n",
       "    <tr>\n",
       "      <th>44</th>\n",
       "      <td>2619</td>\n",
       "      <td>wuskin</td>\n",
       "      <td>HP</td>\n",
       "      <td>LON</td>\n",
       "      <td>LON</td>\n",
       "      <td>FL</td>\n",
       "      <td>7/18</td>\n",
       "      <td>G</td>\n",
       "      <td>#00596</td>\n",
       "      <td>#00148</td>\n",
       "      <td>...</td>\n",
       "      <td>W</td>\n",
       "      <td>AR</td>\n",
       "      <td>21.0</td>\n",
       "      <td>16.0</td>\n",
       "      <td>1.31</td>\n",
       "      <td>5.0</td>\n",
       "      <td>51</td>\n",
       "      <td>NaN</td>\n",
       "      <td>16.5%</td>\n",
       "      <td>14.4%</td>\n",
       "    </tr>\n",
       "    <tr>\n",
       "      <th>45</th>\n",
       "      <td>2659</td>\n",
       "      <td>wuskin</td>\n",
       "      <td>HP</td>\n",
       "      <td>LON</td>\n",
       "      <td>LON</td>\n",
       "      <td>PAR</td>\n",
       "      <td>7/19</td>\n",
       "      <td>B</td>\n",
       "      <td>#00613</td>\n",
       "      <td>#00153</td>\n",
       "      <td>...</td>\n",
       "      <td>L</td>\n",
       "      <td>AR</td>\n",
       "      <td>15.0</td>\n",
       "      <td>18.0</td>\n",
       "      <td>0.83</td>\n",
       "      <td>-3.0</td>\n",
       "      <td>109</td>\n",
       "      <td>9</td>\n",
       "      <td>15.3%</td>\n",
       "      <td>16.2%</td>\n",
       "    </tr>\n",
       "  </tbody>\n",
       "</table>\n",
       "<p>46 rows × 21 columns</p>\n",
       "</div>"
      ],
      "text/plain": [
       "    index  Player Mode Team Event Vs Who       Date Group / Bracket  Map ID  \\\n",
       "0     135  wuskin   HP  LON    LW     NY  1/25/2020               G  #00014   \n",
       "1     194  wuskin   HP  LON    LW    PAR  1/26/2020               G  #00035   \n",
       "2     395  wuskin   HP  LON   LON    TOR   2/8/2020               G  #00059   \n",
       "3     396  wuskin   HP  LON   LON     NY   2/8/2020               G  #00070   \n",
       "4     397  wuskin   HP  LON   LON    TOR   2/8/2020               G  #00062   \n",
       "5     398  wuskin   HP  LON   LON     NY   2/8/2020               G  #00067   \n",
       "6     399  wuskin   HP  LON   LON    DAL   2/8/2020               B  #00088   \n",
       "7     400  wuskin   HP  LON   LON    DAL   2/8/2020               B  #00091   \n",
       "8     649  wuskin   HP  LON   ATL    ATL  2/22/2020               G  #00125   \n",
       "9     650  wuskin   HP  LON   ATL     FL  2/22/2020               G  #00108   \n",
       "10    651  wuskin   HP  LON   ATL    ATL  2/22/2020               G  #00128   \n",
       "11    652  wuskin   HP  LON   ATL     FL  2/22/2020               G  #00105   \n",
       "12    653  wuskin   HP  LON   ATL     FL  2/22/2020               G  #00141   \n",
       "13    654  wuskin   HP  LON   ATL     FL  2/22/2020               G  #00138   \n",
       "14   1168  wuskin   HP  LON   CHI    ATL  4/24/2020               G  #00261   \n",
       "15   1285  wuskin   HP  LON   CHI    CHI  4/25/2020               G  #00288   \n",
       "16   1286  wuskin   HP  LON   CHI    CHI  4/25/2020               G  #00291   \n",
       "17   1405  wuskin   HP  LON    FL   OGLA   5/8/2020               G  #00315   \n",
       "18   1406  wuskin   HP  LON    FL   OGLA   5/8/2020               G  #00318   \n",
       "19   1485  wuskin   HP  LON    FL    ATL   5/9/2020               G  #00327   \n",
       "20   1486  wuskin   HP  LON    FL    ATL   5/9/2020               G  #00330   \n",
       "21   1487  wuskin   HP  LON    FL   OGLA   5/9/2020               G  #00341   \n",
       "22   1623  wuskin   HP  LON   SEA    LAG  5/22/2020               G  #00365   \n",
       "23   1624  wuskin   HP  LON   SEA    LAG  5/22/2020               G  #00368   \n",
       "24   1714  wuskin   HP  LON   SEA     NY  5/23/2020               G  #00382   \n",
       "25   1771  wuskin   HP  LON   SEA   OGLA  5/24/2020               B  #00400   \n",
       "26   1772  wuskin   HP  LON   SEA   OGLA  5/24/2020               B  #00403   \n",
       "27   1773  wuskin   HP  LON   SEA    CHI  5/24/2020               B  #00409   \n",
       "28   1774  wuskin   HP  LON   SEA    CHI  5/24/2020               B  #00412   \n",
       "29   2034  wuskin   HP  LON   PAR    DAL       6/19               G  #00474   \n",
       "30   2099  wuskin   HP  LON   PAR    PAR       6/20               G  #00500   \n",
       "31   2114  wuskin   HP  LON   PAR    DAL       6/20               G  #00508   \n",
       "32   2154  wuskin   HP  LON   PAR    DAL       6/19               G  #00477   \n",
       "33   2209  wuskin   HP  LON   PAR    PAR       6/20               G  #00503   \n",
       "34   2254  wuskin   HP  LON    NY    CHI       7/10               G  #00528   \n",
       "35   2319  wuskin   HP  LON    NY    MIN       7/11               G  #00553   \n",
       "36   2334  wuskin   HP  LON    NY     NY       7/11               G  #00561   \n",
       "37   2384  wuskin   HP  LON    NY    CHI       7/10               G  #00531   \n",
       "38   2439  wuskin   HP  LON    NY    MIN       7/11               G  #00556   \n",
       "39   2444  wuskin   HP  LON    NY     NY       7/11               G  #00564   \n",
       "40   2464  wuskin   HP  LON   LON    SEA       7/17               G  #00578   \n",
       "41   2509  wuskin   HP  LON   LON     FL       7/18               G  #00593   \n",
       "42   2559  wuskin   HP  LON   LON    PAR       7/19               B  #00613   \n",
       "43   2594  wuskin   HP  LON   LON    SEA       7/17               G  #00581   \n",
       "44   2619  wuskin   HP  LON   LON     FL       7/18               G  #00596   \n",
       "45   2659  wuskin   HP  LON   LON    PAR       7/19               B  #00613   \n",
       "\n",
       "   Series ID  ... Result Role Kills  Death   K/D  Plus / Minus  Hill Time  \\\n",
       "0     #00004  ...      W   AR  26.0   16.0  1.63          10.0         70   \n",
       "1     #00009  ...      L   AR  21.0   19.0  1.11           2.0         67   \n",
       "2     #00016  ...      W   AR  37.0   18.0  2.06          19.0         68   \n",
       "3     #00018  ...      W   AR  28.0   17.0  1.65          11.0         63   \n",
       "4     #00016  ...      W   AR  25.0   16.0  1.56           9.0         93   \n",
       "5     #00018  ...      L   AR  23.0   20.0  1.15           3.0         63   \n",
       "6     #00023  ...      W   AR  35.0   21.0  1.67          14.0         24   \n",
       "7     #00023  ...      L   AR  30.0   18.0  1.67          12.0          0   \n",
       "8     #00032  ...      L   AR  30.0   17.0  1.76          13.0         11   \n",
       "9     #00027  ...      W   AR  29.0   13.0  2.23          16.0         59   \n",
       "10    #00032  ...      L   AR  27.0   26.0  1.04           1.0         14   \n",
       "11    #00027  ...      W   AR  23.0   12.0  1.92          11.0         50   \n",
       "12    #00035  ...      W   AR  30.0   18.0  1.67          12.0         16   \n",
       "13    #00035  ...      L   AR  28.0   22.0  1.27           6.0         77   \n",
       "14    #00065  ...      L   AR  33.0   28.0  1.18           5.0         29   \n",
       "15    #00072  ...      L   AR  15.0   23.0  0.65          -8.0         41   \n",
       "16    #00072  ...      L   AR  23.0   32.0  0.72          -9.0         54   \n",
       "17    #00079  ...      W   AR  34.0   16.0  2.13          18.0       64.0   \n",
       "18    #00079  ...      W   AR  24.0   25.0  0.96          -1.0       62.0   \n",
       "19    #00082  ...      L   AR   8.0   12.0  0.73          -4.0       43.0   \n",
       "20    #00082  ...      L   AR  15.0   27.0  0.56         -12.0       11.0   \n",
       "21    #00086  ...      L   AR  30.0   23.0  1.30           7.0       55.0   \n",
       "22    #00092  ...      W   M4  24.0   15.0  1.60           9.0         50   \n",
       "23    #00092  ...      L   M4  20.0   16.0  1.25           4.0         34   \n",
       "24    #00096  ...      W   M4  10.0   18.0  0.56          -8.0        103   \n",
       "25    #00101  ...      W   M4  26.0   24.0  1.08           2.0         20   \n",
       "26    #00101  ...      L   M4  21.0   28.0  0.75          -7.0         56   \n",
       "27    #00103  ...      L   M4  16.0   18.0  0.89          -2.0         62   \n",
       "28    #00103  ...      L   M4  15.0   26.0  0.58         -11.0          5   \n",
       "29    #00118  ...      L   M4  20.0   17.0  1.18           3.0         15   \n",
       "30    #00124  ...      W   M4  25.0   18.0  1.39           7.0         49   \n",
       "31    #00126  ...      L   M4  15.0   19.0  0.79          -4.0         58   \n",
       "32    #00118  ...      W   M4  22.0   22.0  1.00           0.0         43   \n",
       "33    #00124  ...      W   M4  28.0   17.0  1.65          11.0         34   \n",
       "34    #00131  ...      W   AR  31.0   18.0  1.72          13.0         41   \n",
       "35    #00137  ...      W   AR  26.0   20.0  1.30           6.0         32   \n",
       "36    #00139  ...      W   AR  28.0   21.0  1.33           7.0         35   \n",
       "37    #00131  ...      L   AR  26.0   22.0  1.18           4.0          0   \n",
       "38    #00137  ...      L   AR  17.0   16.0  1.06           1.0         66   \n",
       "39    #00139  ...      L   AR  22.0   23.0  0.96          -1.0         62   \n",
       "40    #00144  ...      W   AR  20.0   18.0  1.11           2.0         43   \n",
       "41    #00148  ...      L   AR  17.0   19.0  0.89          -2.0         66   \n",
       "42    #00153  ...      W   AR  28.0   16.0  1.75          12.0         61   \n",
       "43    #00144  ...      W   AR  12.0    9.0  1.33           3.0          0   \n",
       "44    #00148  ...      W   AR  21.0   16.0  1.31           5.0         51   \n",
       "45    #00153  ...      L   AR  15.0   18.0  0.83          -3.0        109   \n",
       "\n",
       "   Assists % of Team Kills % of Team Deaths  \n",
       "0        -           21.3%            15.2%  \n",
       "1        -           20.0%            15.7%  \n",
       "2      NaN           31.0%            15.0%  \n",
       "3      NaN           22.0%            17.0%  \n",
       "4      NaN           19.0%            13.0%  \n",
       "5      NaN           20.0%            17.0%  \n",
       "6      NaN           26.0%            18.0%  \n",
       "7      NaN           26.0%            15.0%  \n",
       "8        9           26.0%            15.0%  \n",
       "9      NaN           23.0%            14.0%  \n",
       "10       9           18.0%            18.0%  \n",
       "11       8           19.0%            14.0%  \n",
       "12       9           23.0%            16.0%  \n",
       "13       7           23.0%            16.0%  \n",
       "14     NaN           21.7%            15.5%  \n",
       "15     NaN           10.4%            17.8%  \n",
       "16      11           17.6%            22.2%  \n",
       "17       5           23.4%            13.8%  \n",
       "18       5           16.3%            17.4%  \n",
       "19       4           14.0%            13.4%  \n",
       "20      10           13.2%            18.1%  \n",
       "21       8           22.6%            17.2%  \n",
       "22     NaN           17.4%            13.0%  \n",
       "23       4           18.7%            15.0%  \n",
       "24       6            8.7%            15.8%  \n",
       "25      11           17.1%            18.0%  \n",
       "26      16           14.0%            18.5%  \n",
       "27      12           14.0%            14.8%  \n",
       "28       6           16.7%            19.3%  \n",
       "29       2           24.4%            15.5%  \n",
       "30     NaN           19.7%            15.5%  \n",
       "31       5           16.3%            16.8%  \n",
       "32     NaN           18.5%            18.0%  \n",
       "33       8           23.5%            14.8%  \n",
       "34     NaN           21.8%            14.9%  \n",
       "35       7           20.2%            16.1%  \n",
       "36       6           21.9%            16.0%  \n",
       "37       6           24.5%            18.6%  \n",
       "38       5           20.5%            15.7%  \n",
       "39       9           18.8%            16.9%  \n",
       "40      15           15.7%            15.5%  \n",
       "41       4           18.9%            16.5%  \n",
       "42     100           19.9%            13.6%  \n",
       "43       6           15.6%            13.8%  \n",
       "44     NaN           16.5%            14.4%  \n",
       "45       9           15.3%            16.2%  \n",
       "\n",
       "[46 rows x 21 columns]"
      ]
     },
     "execution_count": 12,
     "metadata": {},
     "output_type": "execute_result"
    }
   ],
   "source": [
    "wuskin"
   ]
  },
  {
   "cell_type": "code",
   "execution_count": 5,
   "metadata": {},
   "outputs": [
    {
     "name": "stdout",
     "output_type": "stream",
     "text": [
      "<class 'pandas.core.frame.DataFrame'>\n",
      "RangeIndex: 2871 entries, 0 to 2870\n",
      "Data columns (total 20 columns):\n",
      " #   Column            Non-Null Count  Dtype  \n",
      "---  ------            --------------  -----  \n",
      " 0   Player            2871 non-null   object \n",
      " 1   Mode              2871 non-null   object \n",
      " 2   Team              2871 non-null   object \n",
      " 3   Event             2871 non-null   object \n",
      " 4   Vs Who            2871 non-null   object \n",
      " 5   Date              2871 non-null   object \n",
      " 6   Group / Bracket   2871 non-null   object \n",
      " 7   Map ID            2871 non-null   object \n",
      " 8   Series ID         2871 non-null   object \n",
      " 9   Map               2871 non-null   object \n",
      " 10  Result            2871 non-null   object \n",
      " 11  Role              2871 non-null   object \n",
      " 12  Kills             2871 non-null   float64\n",
      " 13  Death             2871 non-null   float64\n",
      " 14  K/D               2871 non-null   float64\n",
      " 15  Plus / Minus      2871 non-null   float64\n",
      " 16  Hill Time         2871 non-null   object \n",
      " 17  Assists           2200 non-null   object \n",
      " 18  % of Team Kills   2871 non-null   object \n",
      " 19  % of Team Deaths  2871 non-null   object \n",
      "dtypes: float64(4), object(16)\n",
      "memory usage: 448.7+ KB\n"
     ]
    }
   ],
   "source": [
    "df.info()"
   ]
  },
  {
   "cell_type": "code",
   "execution_count": 38,
   "metadata": {},
   "outputs": [],
   "source": [
    "fig = go.Figure()"
   ]
  },
  {
   "cell_type": "code",
   "execution_count": 39,
   "metadata": {},
   "outputs": [
    {
     "data": {
      "application/vnd.plotly.v1+json": {
       "config": {
        "plotlyServerURL": "https://plot.ly"
       },
       "data": [
        {
         "hoverinfo": "text",
         "hovertext": [
          "NY",
          "PAR",
          "TOR",
          "NY",
          "TOR",
          "NY",
          "DAL",
          "DAL",
          "ATL",
          "FL",
          "ATL",
          "FL",
          "FL",
          "FL",
          "ATL",
          "CHI",
          "CHI",
          "OGLA",
          "OGLA",
          "ATL",
          "ATL",
          "OGLA",
          "LAG",
          "LAG",
          "NY",
          "OGLA",
          "OGLA",
          "CHI",
          "CHI",
          "DAL",
          "PAR",
          "DAL",
          "DAL",
          "PAR",
          "CHI",
          "MIN",
          "NY",
          "CHI",
          "MIN",
          "NY",
          "SEA",
          "FL",
          "PAR",
          "SEA",
          "FL",
          "PAR"
         ],
         "mode": "lines+markers",
         "name": "Wuskin Regular Season Kills",
         "type": "scatter",
         "x": [
          0,
          1,
          2,
          3,
          4,
          5,
          6,
          7,
          8,
          9,
          10,
          11,
          12,
          13,
          14,
          15,
          16,
          17,
          18,
          19,
          20,
          21,
          22,
          23,
          24,
          25,
          26,
          27,
          28,
          29,
          30,
          31,
          32,
          33,
          34,
          35,
          36,
          37,
          38,
          39,
          40,
          41,
          42,
          43,
          44,
          45
         ],
         "y": [
          26,
          21,
          37,
          28,
          25,
          23,
          35,
          30,
          30,
          29,
          27,
          23,
          30,
          28,
          33,
          15,
          23,
          34,
          24,
          8,
          15,
          30,
          24,
          20,
          10,
          26,
          21,
          16,
          15,
          20,
          25,
          15,
          22,
          28,
          31,
          26,
          28,
          26,
          17,
          22,
          20,
          17,
          28,
          12,
          21,
          15
         ]
        }
       ],
       "layout": {
        "template": {
         "data": {
          "bar": [
           {
            "error_x": {
             "color": "#2a3f5f"
            },
            "error_y": {
             "color": "#2a3f5f"
            },
            "marker": {
             "line": {
              "color": "#E5ECF6",
              "width": 0.5
             }
            },
            "type": "bar"
           }
          ],
          "barpolar": [
           {
            "marker": {
             "line": {
              "color": "#E5ECF6",
              "width": 0.5
             }
            },
            "type": "barpolar"
           }
          ],
          "carpet": [
           {
            "aaxis": {
             "endlinecolor": "#2a3f5f",
             "gridcolor": "white",
             "linecolor": "white",
             "minorgridcolor": "white",
             "startlinecolor": "#2a3f5f"
            },
            "baxis": {
             "endlinecolor": "#2a3f5f",
             "gridcolor": "white",
             "linecolor": "white",
             "minorgridcolor": "white",
             "startlinecolor": "#2a3f5f"
            },
            "type": "carpet"
           }
          ],
          "choropleth": [
           {
            "colorbar": {
             "outlinewidth": 0,
             "ticks": ""
            },
            "type": "choropleth"
           }
          ],
          "contour": [
           {
            "colorbar": {
             "outlinewidth": 0,
             "ticks": ""
            },
            "colorscale": [
             [
              0,
              "#0d0887"
             ],
             [
              0.1111111111111111,
              "#46039f"
             ],
             [
              0.2222222222222222,
              "#7201a8"
             ],
             [
              0.3333333333333333,
              "#9c179e"
             ],
             [
              0.4444444444444444,
              "#bd3786"
             ],
             [
              0.5555555555555556,
              "#d8576b"
             ],
             [
              0.6666666666666666,
              "#ed7953"
             ],
             [
              0.7777777777777778,
              "#fb9f3a"
             ],
             [
              0.8888888888888888,
              "#fdca26"
             ],
             [
              1,
              "#f0f921"
             ]
            ],
            "type": "contour"
           }
          ],
          "contourcarpet": [
           {
            "colorbar": {
             "outlinewidth": 0,
             "ticks": ""
            },
            "type": "contourcarpet"
           }
          ],
          "heatmap": [
           {
            "colorbar": {
             "outlinewidth": 0,
             "ticks": ""
            },
            "colorscale": [
             [
              0,
              "#0d0887"
             ],
             [
              0.1111111111111111,
              "#46039f"
             ],
             [
              0.2222222222222222,
              "#7201a8"
             ],
             [
              0.3333333333333333,
              "#9c179e"
             ],
             [
              0.4444444444444444,
              "#bd3786"
             ],
             [
              0.5555555555555556,
              "#d8576b"
             ],
             [
              0.6666666666666666,
              "#ed7953"
             ],
             [
              0.7777777777777778,
              "#fb9f3a"
             ],
             [
              0.8888888888888888,
              "#fdca26"
             ],
             [
              1,
              "#f0f921"
             ]
            ],
            "type": "heatmap"
           }
          ],
          "heatmapgl": [
           {
            "colorbar": {
             "outlinewidth": 0,
             "ticks": ""
            },
            "colorscale": [
             [
              0,
              "#0d0887"
             ],
             [
              0.1111111111111111,
              "#46039f"
             ],
             [
              0.2222222222222222,
              "#7201a8"
             ],
             [
              0.3333333333333333,
              "#9c179e"
             ],
             [
              0.4444444444444444,
              "#bd3786"
             ],
             [
              0.5555555555555556,
              "#d8576b"
             ],
             [
              0.6666666666666666,
              "#ed7953"
             ],
             [
              0.7777777777777778,
              "#fb9f3a"
             ],
             [
              0.8888888888888888,
              "#fdca26"
             ],
             [
              1,
              "#f0f921"
             ]
            ],
            "type": "heatmapgl"
           }
          ],
          "histogram": [
           {
            "marker": {
             "colorbar": {
              "outlinewidth": 0,
              "ticks": ""
             }
            },
            "type": "histogram"
           }
          ],
          "histogram2d": [
           {
            "colorbar": {
             "outlinewidth": 0,
             "ticks": ""
            },
            "colorscale": [
             [
              0,
              "#0d0887"
             ],
             [
              0.1111111111111111,
              "#46039f"
             ],
             [
              0.2222222222222222,
              "#7201a8"
             ],
             [
              0.3333333333333333,
              "#9c179e"
             ],
             [
              0.4444444444444444,
              "#bd3786"
             ],
             [
              0.5555555555555556,
              "#d8576b"
             ],
             [
              0.6666666666666666,
              "#ed7953"
             ],
             [
              0.7777777777777778,
              "#fb9f3a"
             ],
             [
              0.8888888888888888,
              "#fdca26"
             ],
             [
              1,
              "#f0f921"
             ]
            ],
            "type": "histogram2d"
           }
          ],
          "histogram2dcontour": [
           {
            "colorbar": {
             "outlinewidth": 0,
             "ticks": ""
            },
            "colorscale": [
             [
              0,
              "#0d0887"
             ],
             [
              0.1111111111111111,
              "#46039f"
             ],
             [
              0.2222222222222222,
              "#7201a8"
             ],
             [
              0.3333333333333333,
              "#9c179e"
             ],
             [
              0.4444444444444444,
              "#bd3786"
             ],
             [
              0.5555555555555556,
              "#d8576b"
             ],
             [
              0.6666666666666666,
              "#ed7953"
             ],
             [
              0.7777777777777778,
              "#fb9f3a"
             ],
             [
              0.8888888888888888,
              "#fdca26"
             ],
             [
              1,
              "#f0f921"
             ]
            ],
            "type": "histogram2dcontour"
           }
          ],
          "mesh3d": [
           {
            "colorbar": {
             "outlinewidth": 0,
             "ticks": ""
            },
            "type": "mesh3d"
           }
          ],
          "parcoords": [
           {
            "line": {
             "colorbar": {
              "outlinewidth": 0,
              "ticks": ""
             }
            },
            "type": "parcoords"
           }
          ],
          "scatter": [
           {
            "marker": {
             "colorbar": {
              "outlinewidth": 0,
              "ticks": ""
             }
            },
            "type": "scatter"
           }
          ],
          "scatter3d": [
           {
            "line": {
             "colorbar": {
              "outlinewidth": 0,
              "ticks": ""
             }
            },
            "marker": {
             "colorbar": {
              "outlinewidth": 0,
              "ticks": ""
             }
            },
            "type": "scatter3d"
           }
          ],
          "scattercarpet": [
           {
            "marker": {
             "colorbar": {
              "outlinewidth": 0,
              "ticks": ""
             }
            },
            "type": "scattercarpet"
           }
          ],
          "scattergeo": [
           {
            "marker": {
             "colorbar": {
              "outlinewidth": 0,
              "ticks": ""
             }
            },
            "type": "scattergeo"
           }
          ],
          "scattergl": [
           {
            "marker": {
             "colorbar": {
              "outlinewidth": 0,
              "ticks": ""
             }
            },
            "type": "scattergl"
           }
          ],
          "scattermapbox": [
           {
            "marker": {
             "colorbar": {
              "outlinewidth": 0,
              "ticks": ""
             }
            },
            "type": "scattermapbox"
           }
          ],
          "scatterpolar": [
           {
            "marker": {
             "colorbar": {
              "outlinewidth": 0,
              "ticks": ""
             }
            },
            "type": "scatterpolar"
           }
          ],
          "scatterpolargl": [
           {
            "marker": {
             "colorbar": {
              "outlinewidth": 0,
              "ticks": ""
             }
            },
            "type": "scatterpolargl"
           }
          ],
          "scatterternary": [
           {
            "marker": {
             "colorbar": {
              "outlinewidth": 0,
              "ticks": ""
             }
            },
            "type": "scatterternary"
           }
          ],
          "surface": [
           {
            "colorbar": {
             "outlinewidth": 0,
             "ticks": ""
            },
            "colorscale": [
             [
              0,
              "#0d0887"
             ],
             [
              0.1111111111111111,
              "#46039f"
             ],
             [
              0.2222222222222222,
              "#7201a8"
             ],
             [
              0.3333333333333333,
              "#9c179e"
             ],
             [
              0.4444444444444444,
              "#bd3786"
             ],
             [
              0.5555555555555556,
              "#d8576b"
             ],
             [
              0.6666666666666666,
              "#ed7953"
             ],
             [
              0.7777777777777778,
              "#fb9f3a"
             ],
             [
              0.8888888888888888,
              "#fdca26"
             ],
             [
              1,
              "#f0f921"
             ]
            ],
            "type": "surface"
           }
          ],
          "table": [
           {
            "cells": {
             "fill": {
              "color": "#EBF0F8"
             },
             "line": {
              "color": "white"
             }
            },
            "header": {
             "fill": {
              "color": "#C8D4E3"
             },
             "line": {
              "color": "white"
             }
            },
            "type": "table"
           }
          ]
         },
         "layout": {
          "annotationdefaults": {
           "arrowcolor": "#2a3f5f",
           "arrowhead": 0,
           "arrowwidth": 1
          },
          "colorscale": {
           "diverging": [
            [
             0,
             "#8e0152"
            ],
            [
             0.1,
             "#c51b7d"
            ],
            [
             0.2,
             "#de77ae"
            ],
            [
             0.3,
             "#f1b6da"
            ],
            [
             0.4,
             "#fde0ef"
            ],
            [
             0.5,
             "#f7f7f7"
            ],
            [
             0.6,
             "#e6f5d0"
            ],
            [
             0.7,
             "#b8e186"
            ],
            [
             0.8,
             "#7fbc41"
            ],
            [
             0.9,
             "#4d9221"
            ],
            [
             1,
             "#276419"
            ]
           ],
           "sequential": [
            [
             0,
             "#0d0887"
            ],
            [
             0.1111111111111111,
             "#46039f"
            ],
            [
             0.2222222222222222,
             "#7201a8"
            ],
            [
             0.3333333333333333,
             "#9c179e"
            ],
            [
             0.4444444444444444,
             "#bd3786"
            ],
            [
             0.5555555555555556,
             "#d8576b"
            ],
            [
             0.6666666666666666,
             "#ed7953"
            ],
            [
             0.7777777777777778,
             "#fb9f3a"
            ],
            [
             0.8888888888888888,
             "#fdca26"
            ],
            [
             1,
             "#f0f921"
            ]
           ],
           "sequentialminus": [
            [
             0,
             "#0d0887"
            ],
            [
             0.1111111111111111,
             "#46039f"
            ],
            [
             0.2222222222222222,
             "#7201a8"
            ],
            [
             0.3333333333333333,
             "#9c179e"
            ],
            [
             0.4444444444444444,
             "#bd3786"
            ],
            [
             0.5555555555555556,
             "#d8576b"
            ],
            [
             0.6666666666666666,
             "#ed7953"
            ],
            [
             0.7777777777777778,
             "#fb9f3a"
            ],
            [
             0.8888888888888888,
             "#fdca26"
            ],
            [
             1,
             "#f0f921"
            ]
           ]
          },
          "colorway": [
           "#636efa",
           "#EF553B",
           "#00cc96",
           "#ab63fa",
           "#FFA15A",
           "#19d3f3",
           "#FF6692",
           "#B6E880",
           "#FF97FF",
           "#FECB52"
          ],
          "font": {
           "color": "#2a3f5f"
          },
          "geo": {
           "bgcolor": "white",
           "lakecolor": "white",
           "landcolor": "#E5ECF6",
           "showlakes": true,
           "showland": true,
           "subunitcolor": "white"
          },
          "hoverlabel": {
           "align": "left"
          },
          "hovermode": "closest",
          "mapbox": {
           "style": "light"
          },
          "paper_bgcolor": "white",
          "plot_bgcolor": "#E5ECF6",
          "polar": {
           "angularaxis": {
            "gridcolor": "white",
            "linecolor": "white",
            "ticks": ""
           },
           "bgcolor": "#E5ECF6",
           "radialaxis": {
            "gridcolor": "white",
            "linecolor": "white",
            "ticks": ""
           }
          },
          "scene": {
           "xaxis": {
            "backgroundcolor": "#E5ECF6",
            "gridcolor": "white",
            "gridwidth": 2,
            "linecolor": "white",
            "showbackground": true,
            "ticks": "",
            "zerolinecolor": "white"
           },
           "yaxis": {
            "backgroundcolor": "#E5ECF6",
            "gridcolor": "white",
            "gridwidth": 2,
            "linecolor": "white",
            "showbackground": true,
            "ticks": "",
            "zerolinecolor": "white"
           },
           "zaxis": {
            "backgroundcolor": "#E5ECF6",
            "gridcolor": "white",
            "gridwidth": 2,
            "linecolor": "white",
            "showbackground": true,
            "ticks": "",
            "zerolinecolor": "white"
           }
          },
          "shapedefaults": {
           "line": {
            "color": "#2a3f5f"
           }
          },
          "ternary": {
           "aaxis": {
            "gridcolor": "white",
            "linecolor": "white",
            "ticks": ""
           },
           "baxis": {
            "gridcolor": "white",
            "linecolor": "white",
            "ticks": ""
           },
           "bgcolor": "#E5ECF6",
           "caxis": {
            "gridcolor": "white",
            "linecolor": "white",
            "ticks": ""
           }
          },
          "title": {
           "x": 0.05
          },
          "xaxis": {
           "automargin": true,
           "gridcolor": "white",
           "linecolor": "white",
           "ticks": "",
           "zerolinecolor": "white",
           "zerolinewidth": 2
          },
          "yaxis": {
           "automargin": true,
           "gridcolor": "white",
           "linecolor": "white",
           "ticks": "",
           "zerolinecolor": "white",
           "zerolinewidth": 2
          }
         }
        }
       }
      },
      "text/html": [
       "<div>\n",
       "        \n",
       "        \n",
       "            <div id=\"a613945d-91b2-4b0e-af8b-a9882c548940\" class=\"plotly-graph-div\" style=\"height:525px; width:100%;\"></div>\n",
       "            <script type=\"text/javascript\">\n",
       "                require([\"plotly\"], function(Plotly) {\n",
       "                    window.PLOTLYENV=window.PLOTLYENV || {};\n",
       "                    \n",
       "                if (document.getElementById(\"a613945d-91b2-4b0e-af8b-a9882c548940\")) {\n",
       "                    Plotly.newPlot(\n",
       "                        'a613945d-91b2-4b0e-af8b-a9882c548940',\n",
       "                        [{\"hoverinfo\": \"text\", \"hovertext\": [\"NY\", \"PAR\", \"TOR\", \"NY\", \"TOR\", \"NY\", \"DAL\", \"DAL\", \"ATL\", \"FL\", \"ATL\", \"FL\", \"FL\", \"FL\", \"ATL\", \"CHI\", \"CHI\", \"OGLA\", \"OGLA\", \"ATL\", \"ATL\", \"OGLA\", \"LAG\", \"LAG\", \"NY\", \"OGLA\", \"OGLA\", \"CHI\", \"CHI\", \"DAL\", \"PAR\", \"DAL\", \"DAL\", \"PAR\", \"CHI\", \"MIN\", \"NY\", \"CHI\", \"MIN\", \"NY\", \"SEA\", \"FL\", \"PAR\", \"SEA\", \"FL\", \"PAR\"], \"mode\": \"lines+markers\", \"name\": \"Wuskin Regular Season Kills\", \"type\": \"scatter\", \"x\": [0, 1, 2, 3, 4, 5, 6, 7, 8, 9, 10, 11, 12, 13, 14, 15, 16, 17, 18, 19, 20, 21, 22, 23, 24, 25, 26, 27, 28, 29, 30, 31, 32, 33, 34, 35, 36, 37, 38, 39, 40, 41, 42, 43, 44, 45], \"y\": [26.0, 21.0, 37.0, 28.0, 25.0, 23.0, 35.0, 30.0, 30.0, 29.0, 27.0, 23.0, 30.0, 28.0, 33.0, 15.0, 23.0, 34.0, 24.0, 8.0, 15.0, 30.0, 24.0, 20.0, 10.0, 26.0, 21.0, 16.0, 15.0, 20.0, 25.0, 15.0, 22.0, 28.0, 31.0, 26.0, 28.0, 26.0, 17.0, 22.0, 20.0, 17.0, 28.0, 12.0, 21.0, 15.0]}],\n",
       "                        {\"template\": {\"data\": {\"bar\": [{\"error_x\": {\"color\": \"#2a3f5f\"}, \"error_y\": {\"color\": \"#2a3f5f\"}, \"marker\": {\"line\": {\"color\": \"#E5ECF6\", \"width\": 0.5}}, \"type\": \"bar\"}], \"barpolar\": [{\"marker\": {\"line\": {\"color\": \"#E5ECF6\", \"width\": 0.5}}, \"type\": \"barpolar\"}], \"carpet\": [{\"aaxis\": {\"endlinecolor\": \"#2a3f5f\", \"gridcolor\": \"white\", \"linecolor\": \"white\", \"minorgridcolor\": \"white\", \"startlinecolor\": \"#2a3f5f\"}, \"baxis\": {\"endlinecolor\": \"#2a3f5f\", \"gridcolor\": \"white\", \"linecolor\": \"white\", \"minorgridcolor\": \"white\", \"startlinecolor\": \"#2a3f5f\"}, \"type\": \"carpet\"}], \"choropleth\": [{\"colorbar\": {\"outlinewidth\": 0, \"ticks\": \"\"}, \"type\": \"choropleth\"}], \"contour\": [{\"colorbar\": {\"outlinewidth\": 0, \"ticks\": \"\"}, \"colorscale\": [[0.0, \"#0d0887\"], [0.1111111111111111, \"#46039f\"], [0.2222222222222222, \"#7201a8\"], [0.3333333333333333, \"#9c179e\"], [0.4444444444444444, \"#bd3786\"], [0.5555555555555556, \"#d8576b\"], [0.6666666666666666, \"#ed7953\"], [0.7777777777777778, \"#fb9f3a\"], [0.8888888888888888, \"#fdca26\"], [1.0, \"#f0f921\"]], \"type\": \"contour\"}], \"contourcarpet\": [{\"colorbar\": {\"outlinewidth\": 0, \"ticks\": \"\"}, \"type\": \"contourcarpet\"}], \"heatmap\": [{\"colorbar\": {\"outlinewidth\": 0, \"ticks\": \"\"}, \"colorscale\": [[0.0, \"#0d0887\"], [0.1111111111111111, \"#46039f\"], [0.2222222222222222, \"#7201a8\"], [0.3333333333333333, \"#9c179e\"], [0.4444444444444444, \"#bd3786\"], [0.5555555555555556, \"#d8576b\"], [0.6666666666666666, \"#ed7953\"], [0.7777777777777778, \"#fb9f3a\"], [0.8888888888888888, \"#fdca26\"], [1.0, \"#f0f921\"]], \"type\": \"heatmap\"}], \"heatmapgl\": [{\"colorbar\": {\"outlinewidth\": 0, \"ticks\": \"\"}, \"colorscale\": [[0.0, \"#0d0887\"], [0.1111111111111111, \"#46039f\"], [0.2222222222222222, \"#7201a8\"], [0.3333333333333333, \"#9c179e\"], [0.4444444444444444, \"#bd3786\"], [0.5555555555555556, \"#d8576b\"], [0.6666666666666666, \"#ed7953\"], [0.7777777777777778, \"#fb9f3a\"], [0.8888888888888888, \"#fdca26\"], [1.0, \"#f0f921\"]], \"type\": \"heatmapgl\"}], \"histogram\": [{\"marker\": {\"colorbar\": {\"outlinewidth\": 0, \"ticks\": \"\"}}, \"type\": \"histogram\"}], \"histogram2d\": [{\"colorbar\": {\"outlinewidth\": 0, \"ticks\": \"\"}, \"colorscale\": [[0.0, \"#0d0887\"], [0.1111111111111111, \"#46039f\"], [0.2222222222222222, \"#7201a8\"], [0.3333333333333333, \"#9c179e\"], [0.4444444444444444, \"#bd3786\"], [0.5555555555555556, \"#d8576b\"], [0.6666666666666666, \"#ed7953\"], [0.7777777777777778, \"#fb9f3a\"], [0.8888888888888888, \"#fdca26\"], [1.0, \"#f0f921\"]], \"type\": \"histogram2d\"}], \"histogram2dcontour\": [{\"colorbar\": {\"outlinewidth\": 0, \"ticks\": \"\"}, \"colorscale\": [[0.0, \"#0d0887\"], [0.1111111111111111, \"#46039f\"], [0.2222222222222222, \"#7201a8\"], [0.3333333333333333, \"#9c179e\"], [0.4444444444444444, \"#bd3786\"], [0.5555555555555556, \"#d8576b\"], [0.6666666666666666, \"#ed7953\"], [0.7777777777777778, \"#fb9f3a\"], [0.8888888888888888, \"#fdca26\"], [1.0, \"#f0f921\"]], \"type\": \"histogram2dcontour\"}], \"mesh3d\": [{\"colorbar\": {\"outlinewidth\": 0, \"ticks\": \"\"}, \"type\": \"mesh3d\"}], \"parcoords\": [{\"line\": {\"colorbar\": {\"outlinewidth\": 0, \"ticks\": \"\"}}, \"type\": \"parcoords\"}], \"scatter\": [{\"marker\": {\"colorbar\": {\"outlinewidth\": 0, \"ticks\": \"\"}}, \"type\": \"scatter\"}], \"scatter3d\": [{\"line\": {\"colorbar\": {\"outlinewidth\": 0, \"ticks\": \"\"}}, \"marker\": {\"colorbar\": {\"outlinewidth\": 0, \"ticks\": \"\"}}, \"type\": \"scatter3d\"}], \"scattercarpet\": [{\"marker\": {\"colorbar\": {\"outlinewidth\": 0, \"ticks\": \"\"}}, \"type\": \"scattercarpet\"}], \"scattergeo\": [{\"marker\": {\"colorbar\": {\"outlinewidth\": 0, \"ticks\": \"\"}}, \"type\": \"scattergeo\"}], \"scattergl\": [{\"marker\": {\"colorbar\": {\"outlinewidth\": 0, \"ticks\": \"\"}}, \"type\": \"scattergl\"}], \"scattermapbox\": [{\"marker\": {\"colorbar\": {\"outlinewidth\": 0, \"ticks\": \"\"}}, \"type\": \"scattermapbox\"}], \"scatterpolar\": [{\"marker\": {\"colorbar\": {\"outlinewidth\": 0, \"ticks\": \"\"}}, \"type\": \"scatterpolar\"}], \"scatterpolargl\": [{\"marker\": {\"colorbar\": {\"outlinewidth\": 0, \"ticks\": \"\"}}, \"type\": \"scatterpolargl\"}], \"scatterternary\": [{\"marker\": {\"colorbar\": {\"outlinewidth\": 0, \"ticks\": \"\"}}, \"type\": \"scatterternary\"}], \"surface\": [{\"colorbar\": {\"outlinewidth\": 0, \"ticks\": \"\"}, \"colorscale\": [[0.0, \"#0d0887\"], [0.1111111111111111, \"#46039f\"], [0.2222222222222222, \"#7201a8\"], [0.3333333333333333, \"#9c179e\"], [0.4444444444444444, \"#bd3786\"], [0.5555555555555556, \"#d8576b\"], [0.6666666666666666, \"#ed7953\"], [0.7777777777777778, \"#fb9f3a\"], [0.8888888888888888, \"#fdca26\"], [1.0, \"#f0f921\"]], \"type\": \"surface\"}], \"table\": [{\"cells\": {\"fill\": {\"color\": \"#EBF0F8\"}, \"line\": {\"color\": \"white\"}}, \"header\": {\"fill\": {\"color\": \"#C8D4E3\"}, \"line\": {\"color\": \"white\"}}, \"type\": \"table\"}]}, \"layout\": {\"annotationdefaults\": {\"arrowcolor\": \"#2a3f5f\", \"arrowhead\": 0, \"arrowwidth\": 1}, \"colorscale\": {\"diverging\": [[0, \"#8e0152\"], [0.1, \"#c51b7d\"], [0.2, \"#de77ae\"], [0.3, \"#f1b6da\"], [0.4, \"#fde0ef\"], [0.5, \"#f7f7f7\"], [0.6, \"#e6f5d0\"], [0.7, \"#b8e186\"], [0.8, \"#7fbc41\"], [0.9, \"#4d9221\"], [1, \"#276419\"]], \"sequential\": [[0.0, \"#0d0887\"], [0.1111111111111111, \"#46039f\"], [0.2222222222222222, \"#7201a8\"], [0.3333333333333333, \"#9c179e\"], [0.4444444444444444, \"#bd3786\"], [0.5555555555555556, \"#d8576b\"], [0.6666666666666666, \"#ed7953\"], [0.7777777777777778, \"#fb9f3a\"], [0.8888888888888888, \"#fdca26\"], [1.0, \"#f0f921\"]], \"sequentialminus\": [[0.0, \"#0d0887\"], [0.1111111111111111, \"#46039f\"], [0.2222222222222222, \"#7201a8\"], [0.3333333333333333, \"#9c179e\"], [0.4444444444444444, \"#bd3786\"], [0.5555555555555556, \"#d8576b\"], [0.6666666666666666, \"#ed7953\"], [0.7777777777777778, \"#fb9f3a\"], [0.8888888888888888, \"#fdca26\"], [1.0, \"#f0f921\"]]}, \"colorway\": [\"#636efa\", \"#EF553B\", \"#00cc96\", \"#ab63fa\", \"#FFA15A\", \"#19d3f3\", \"#FF6692\", \"#B6E880\", \"#FF97FF\", \"#FECB52\"], \"font\": {\"color\": \"#2a3f5f\"}, \"geo\": {\"bgcolor\": \"white\", \"lakecolor\": \"white\", \"landcolor\": \"#E5ECF6\", \"showlakes\": true, \"showland\": true, \"subunitcolor\": \"white\"}, \"hoverlabel\": {\"align\": \"left\"}, \"hovermode\": \"closest\", \"mapbox\": {\"style\": \"light\"}, \"paper_bgcolor\": \"white\", \"plot_bgcolor\": \"#E5ECF6\", \"polar\": {\"angularaxis\": {\"gridcolor\": \"white\", \"linecolor\": \"white\", \"ticks\": \"\"}, \"bgcolor\": \"#E5ECF6\", \"radialaxis\": {\"gridcolor\": \"white\", \"linecolor\": \"white\", \"ticks\": \"\"}}, \"scene\": {\"xaxis\": {\"backgroundcolor\": \"#E5ECF6\", \"gridcolor\": \"white\", \"gridwidth\": 2, \"linecolor\": \"white\", \"showbackground\": true, \"ticks\": \"\", \"zerolinecolor\": \"white\"}, \"yaxis\": {\"backgroundcolor\": \"#E5ECF6\", \"gridcolor\": \"white\", \"gridwidth\": 2, \"linecolor\": \"white\", \"showbackground\": true, \"ticks\": \"\", \"zerolinecolor\": \"white\"}, \"zaxis\": {\"backgroundcolor\": \"#E5ECF6\", \"gridcolor\": \"white\", \"gridwidth\": 2, \"linecolor\": \"white\", \"showbackground\": true, \"ticks\": \"\", \"zerolinecolor\": \"white\"}}, \"shapedefaults\": {\"line\": {\"color\": \"#2a3f5f\"}}, \"ternary\": {\"aaxis\": {\"gridcolor\": \"white\", \"linecolor\": \"white\", \"ticks\": \"\"}, \"baxis\": {\"gridcolor\": \"white\", \"linecolor\": \"white\", \"ticks\": \"\"}, \"bgcolor\": \"#E5ECF6\", \"caxis\": {\"gridcolor\": \"white\", \"linecolor\": \"white\", \"ticks\": \"\"}}, \"title\": {\"x\": 0.05}, \"xaxis\": {\"automargin\": true, \"gridcolor\": \"white\", \"linecolor\": \"white\", \"ticks\": \"\", \"zerolinecolor\": \"white\", \"zerolinewidth\": 2}, \"yaxis\": {\"automargin\": true, \"gridcolor\": \"white\", \"linecolor\": \"white\", \"ticks\": \"\", \"zerolinecolor\": \"white\", \"zerolinewidth\": 2}}}},\n",
       "                        {\"responsive\": true}\n",
       "                    ).then(function(){\n",
       "                            \n",
       "var gd = document.getElementById('a613945d-91b2-4b0e-af8b-a9882c548940');\n",
       "var x = new MutationObserver(function (mutations, observer) {{\n",
       "        var display = window.getComputedStyle(gd).display;\n",
       "        if (!display || display === 'none') {{\n",
       "            console.log([gd, 'removed!']);\n",
       "            Plotly.purge(gd);\n",
       "            observer.disconnect();\n",
       "        }}\n",
       "}});\n",
       "\n",
       "// Listen for the removal of the full notebook cells\n",
       "var notebookContainer = gd.closest('#notebook-container');\n",
       "if (notebookContainer) {{\n",
       "    x.observe(notebookContainer, {childList: true});\n",
       "}}\n",
       "\n",
       "// Listen for the clearing of the current output cell\n",
       "var outputEl = gd.closest('.output');\n",
       "if (outputEl) {{\n",
       "    x.observe(outputEl, {childList: true});\n",
       "}}\n",
       "\n",
       "                        })\n",
       "                };\n",
       "                });\n",
       "            </script>\n",
       "        </div>"
      ]
     },
     "metadata": {},
     "output_type": "display_data"
    }
   ],
   "source": [
    "fig.add_trace(\n",
    "    go.Scatter(x=wuskin.index,\n",
    "          y=wuskin['Kills'],\n",
    "            hoverinfo='text',\n",
    "            hovertext=wuskin['Vs Who'],\n",
    "            mode='lines+markers',\n",
    "              name='Wuskin Regular Season Kills')\n",
    ")"
   ]
  },
  {
   "cell_type": "code",
   "execution_count": 40,
   "metadata": {},
   "outputs": [
    {
     "data": {
      "application/vnd.plotly.v1+json": {
       "config": {
        "plotlyServerURL": "https://plot.ly"
       },
       "data": [
        {
         "hoverinfo": "text",
         "hovertext": [
          "NY",
          "PAR",
          "TOR",
          "NY",
          "TOR",
          "NY",
          "DAL",
          "DAL",
          "ATL",
          "FL",
          "ATL",
          "FL",
          "FL",
          "FL",
          "ATL",
          "CHI",
          "CHI",
          "OGLA",
          "OGLA",
          "ATL",
          "ATL",
          "OGLA",
          "LAG",
          "LAG",
          "NY",
          "OGLA",
          "OGLA",
          "CHI",
          "CHI",
          "DAL",
          "PAR",
          "DAL",
          "DAL",
          "PAR",
          "CHI",
          "MIN",
          "NY",
          "CHI",
          "MIN",
          "NY",
          "SEA",
          "FL",
          "PAR",
          "SEA",
          "FL",
          "PAR"
         ],
         "mode": "lines+markers",
         "name": "Wuskin Regular Season Kills",
         "type": "scatter",
         "x": [
          0,
          1,
          2,
          3,
          4,
          5,
          6,
          7,
          8,
          9,
          10,
          11,
          12,
          13,
          14,
          15,
          16,
          17,
          18,
          19,
          20,
          21,
          22,
          23,
          24,
          25,
          26,
          27,
          28,
          29,
          30,
          31,
          32,
          33,
          34,
          35,
          36,
          37,
          38,
          39,
          40,
          41,
          42,
          43,
          44,
          45
         ],
         "y": [
          26,
          21,
          37,
          28,
          25,
          23,
          35,
          30,
          30,
          29,
          27,
          23,
          30,
          28,
          33,
          15,
          23,
          34,
          24,
          8,
          15,
          30,
          24,
          20,
          10,
          26,
          21,
          16,
          15,
          20,
          25,
          15,
          22,
          28,
          31,
          26,
          28,
          26,
          17,
          22,
          20,
          17,
          28,
          12,
          21,
          15
         ]
        }
       ],
       "layout": {
        "template": {
         "data": {
          "bar": [
           {
            "error_x": {
             "color": "#2a3f5f"
            },
            "error_y": {
             "color": "#2a3f5f"
            },
            "marker": {
             "line": {
              "color": "#E5ECF6",
              "width": 0.5
             }
            },
            "type": "bar"
           }
          ],
          "barpolar": [
           {
            "marker": {
             "line": {
              "color": "#E5ECF6",
              "width": 0.5
             }
            },
            "type": "barpolar"
           }
          ],
          "carpet": [
           {
            "aaxis": {
             "endlinecolor": "#2a3f5f",
             "gridcolor": "white",
             "linecolor": "white",
             "minorgridcolor": "white",
             "startlinecolor": "#2a3f5f"
            },
            "baxis": {
             "endlinecolor": "#2a3f5f",
             "gridcolor": "white",
             "linecolor": "white",
             "minorgridcolor": "white",
             "startlinecolor": "#2a3f5f"
            },
            "type": "carpet"
           }
          ],
          "choropleth": [
           {
            "colorbar": {
             "outlinewidth": 0,
             "ticks": ""
            },
            "type": "choropleth"
           }
          ],
          "contour": [
           {
            "colorbar": {
             "outlinewidth": 0,
             "ticks": ""
            },
            "colorscale": [
             [
              0,
              "#0d0887"
             ],
             [
              0.1111111111111111,
              "#46039f"
             ],
             [
              0.2222222222222222,
              "#7201a8"
             ],
             [
              0.3333333333333333,
              "#9c179e"
             ],
             [
              0.4444444444444444,
              "#bd3786"
             ],
             [
              0.5555555555555556,
              "#d8576b"
             ],
             [
              0.6666666666666666,
              "#ed7953"
             ],
             [
              0.7777777777777778,
              "#fb9f3a"
             ],
             [
              0.8888888888888888,
              "#fdca26"
             ],
             [
              1,
              "#f0f921"
             ]
            ],
            "type": "contour"
           }
          ],
          "contourcarpet": [
           {
            "colorbar": {
             "outlinewidth": 0,
             "ticks": ""
            },
            "type": "contourcarpet"
           }
          ],
          "heatmap": [
           {
            "colorbar": {
             "outlinewidth": 0,
             "ticks": ""
            },
            "colorscale": [
             [
              0,
              "#0d0887"
             ],
             [
              0.1111111111111111,
              "#46039f"
             ],
             [
              0.2222222222222222,
              "#7201a8"
             ],
             [
              0.3333333333333333,
              "#9c179e"
             ],
             [
              0.4444444444444444,
              "#bd3786"
             ],
             [
              0.5555555555555556,
              "#d8576b"
             ],
             [
              0.6666666666666666,
              "#ed7953"
             ],
             [
              0.7777777777777778,
              "#fb9f3a"
             ],
             [
              0.8888888888888888,
              "#fdca26"
             ],
             [
              1,
              "#f0f921"
             ]
            ],
            "type": "heatmap"
           }
          ],
          "heatmapgl": [
           {
            "colorbar": {
             "outlinewidth": 0,
             "ticks": ""
            },
            "colorscale": [
             [
              0,
              "#0d0887"
             ],
             [
              0.1111111111111111,
              "#46039f"
             ],
             [
              0.2222222222222222,
              "#7201a8"
             ],
             [
              0.3333333333333333,
              "#9c179e"
             ],
             [
              0.4444444444444444,
              "#bd3786"
             ],
             [
              0.5555555555555556,
              "#d8576b"
             ],
             [
              0.6666666666666666,
              "#ed7953"
             ],
             [
              0.7777777777777778,
              "#fb9f3a"
             ],
             [
              0.8888888888888888,
              "#fdca26"
             ],
             [
              1,
              "#f0f921"
             ]
            ],
            "type": "heatmapgl"
           }
          ],
          "histogram": [
           {
            "marker": {
             "colorbar": {
              "outlinewidth": 0,
              "ticks": ""
             }
            },
            "type": "histogram"
           }
          ],
          "histogram2d": [
           {
            "colorbar": {
             "outlinewidth": 0,
             "ticks": ""
            },
            "colorscale": [
             [
              0,
              "#0d0887"
             ],
             [
              0.1111111111111111,
              "#46039f"
             ],
             [
              0.2222222222222222,
              "#7201a8"
             ],
             [
              0.3333333333333333,
              "#9c179e"
             ],
             [
              0.4444444444444444,
              "#bd3786"
             ],
             [
              0.5555555555555556,
              "#d8576b"
             ],
             [
              0.6666666666666666,
              "#ed7953"
             ],
             [
              0.7777777777777778,
              "#fb9f3a"
             ],
             [
              0.8888888888888888,
              "#fdca26"
             ],
             [
              1,
              "#f0f921"
             ]
            ],
            "type": "histogram2d"
           }
          ],
          "histogram2dcontour": [
           {
            "colorbar": {
             "outlinewidth": 0,
             "ticks": ""
            },
            "colorscale": [
             [
              0,
              "#0d0887"
             ],
             [
              0.1111111111111111,
              "#46039f"
             ],
             [
              0.2222222222222222,
              "#7201a8"
             ],
             [
              0.3333333333333333,
              "#9c179e"
             ],
             [
              0.4444444444444444,
              "#bd3786"
             ],
             [
              0.5555555555555556,
              "#d8576b"
             ],
             [
              0.6666666666666666,
              "#ed7953"
             ],
             [
              0.7777777777777778,
              "#fb9f3a"
             ],
             [
              0.8888888888888888,
              "#fdca26"
             ],
             [
              1,
              "#f0f921"
             ]
            ],
            "type": "histogram2dcontour"
           }
          ],
          "mesh3d": [
           {
            "colorbar": {
             "outlinewidth": 0,
             "ticks": ""
            },
            "type": "mesh3d"
           }
          ],
          "parcoords": [
           {
            "line": {
             "colorbar": {
              "outlinewidth": 0,
              "ticks": ""
             }
            },
            "type": "parcoords"
           }
          ],
          "scatter": [
           {
            "marker": {
             "colorbar": {
              "outlinewidth": 0,
              "ticks": ""
             }
            },
            "type": "scatter"
           }
          ],
          "scatter3d": [
           {
            "line": {
             "colorbar": {
              "outlinewidth": 0,
              "ticks": ""
             }
            },
            "marker": {
             "colorbar": {
              "outlinewidth": 0,
              "ticks": ""
             }
            },
            "type": "scatter3d"
           }
          ],
          "scattercarpet": [
           {
            "marker": {
             "colorbar": {
              "outlinewidth": 0,
              "ticks": ""
             }
            },
            "type": "scattercarpet"
           }
          ],
          "scattergeo": [
           {
            "marker": {
             "colorbar": {
              "outlinewidth": 0,
              "ticks": ""
             }
            },
            "type": "scattergeo"
           }
          ],
          "scattergl": [
           {
            "marker": {
             "colorbar": {
              "outlinewidth": 0,
              "ticks": ""
             }
            },
            "type": "scattergl"
           }
          ],
          "scattermapbox": [
           {
            "marker": {
             "colorbar": {
              "outlinewidth": 0,
              "ticks": ""
             }
            },
            "type": "scattermapbox"
           }
          ],
          "scatterpolar": [
           {
            "marker": {
             "colorbar": {
              "outlinewidth": 0,
              "ticks": ""
             }
            },
            "type": "scatterpolar"
           }
          ],
          "scatterpolargl": [
           {
            "marker": {
             "colorbar": {
              "outlinewidth": 0,
              "ticks": ""
             }
            },
            "type": "scatterpolargl"
           }
          ],
          "scatterternary": [
           {
            "marker": {
             "colorbar": {
              "outlinewidth": 0,
              "ticks": ""
             }
            },
            "type": "scatterternary"
           }
          ],
          "surface": [
           {
            "colorbar": {
             "outlinewidth": 0,
             "ticks": ""
            },
            "colorscale": [
             [
              0,
              "#0d0887"
             ],
             [
              0.1111111111111111,
              "#46039f"
             ],
             [
              0.2222222222222222,
              "#7201a8"
             ],
             [
              0.3333333333333333,
              "#9c179e"
             ],
             [
              0.4444444444444444,
              "#bd3786"
             ],
             [
              0.5555555555555556,
              "#d8576b"
             ],
             [
              0.6666666666666666,
              "#ed7953"
             ],
             [
              0.7777777777777778,
              "#fb9f3a"
             ],
             [
              0.8888888888888888,
              "#fdca26"
             ],
             [
              1,
              "#f0f921"
             ]
            ],
            "type": "surface"
           }
          ],
          "table": [
           {
            "cells": {
             "fill": {
              "color": "#EBF0F8"
             },
             "line": {
              "color": "white"
             }
            },
            "header": {
             "fill": {
              "color": "#C8D4E3"
             },
             "line": {
              "color": "white"
             }
            },
            "type": "table"
           }
          ]
         },
         "layout": {
          "annotationdefaults": {
           "arrowcolor": "#2a3f5f",
           "arrowhead": 0,
           "arrowwidth": 1
          },
          "colorscale": {
           "diverging": [
            [
             0,
             "#8e0152"
            ],
            [
             0.1,
             "#c51b7d"
            ],
            [
             0.2,
             "#de77ae"
            ],
            [
             0.3,
             "#f1b6da"
            ],
            [
             0.4,
             "#fde0ef"
            ],
            [
             0.5,
             "#f7f7f7"
            ],
            [
             0.6,
             "#e6f5d0"
            ],
            [
             0.7,
             "#b8e186"
            ],
            [
             0.8,
             "#7fbc41"
            ],
            [
             0.9,
             "#4d9221"
            ],
            [
             1,
             "#276419"
            ]
           ],
           "sequential": [
            [
             0,
             "#0d0887"
            ],
            [
             0.1111111111111111,
             "#46039f"
            ],
            [
             0.2222222222222222,
             "#7201a8"
            ],
            [
             0.3333333333333333,
             "#9c179e"
            ],
            [
             0.4444444444444444,
             "#bd3786"
            ],
            [
             0.5555555555555556,
             "#d8576b"
            ],
            [
             0.6666666666666666,
             "#ed7953"
            ],
            [
             0.7777777777777778,
             "#fb9f3a"
            ],
            [
             0.8888888888888888,
             "#fdca26"
            ],
            [
             1,
             "#f0f921"
            ]
           ],
           "sequentialminus": [
            [
             0,
             "#0d0887"
            ],
            [
             0.1111111111111111,
             "#46039f"
            ],
            [
             0.2222222222222222,
             "#7201a8"
            ],
            [
             0.3333333333333333,
             "#9c179e"
            ],
            [
             0.4444444444444444,
             "#bd3786"
            ],
            [
             0.5555555555555556,
             "#d8576b"
            ],
            [
             0.6666666666666666,
             "#ed7953"
            ],
            [
             0.7777777777777778,
             "#fb9f3a"
            ],
            [
             0.8888888888888888,
             "#fdca26"
            ],
            [
             1,
             "#f0f921"
            ]
           ]
          },
          "colorway": [
           "#636efa",
           "#EF553B",
           "#00cc96",
           "#ab63fa",
           "#FFA15A",
           "#19d3f3",
           "#FF6692",
           "#B6E880",
           "#FF97FF",
           "#FECB52"
          ],
          "font": {
           "color": "#2a3f5f"
          },
          "geo": {
           "bgcolor": "white",
           "lakecolor": "white",
           "landcolor": "#E5ECF6",
           "showlakes": true,
           "showland": true,
           "subunitcolor": "white"
          },
          "hoverlabel": {
           "align": "left"
          },
          "hovermode": "closest",
          "mapbox": {
           "style": "light"
          },
          "paper_bgcolor": "white",
          "plot_bgcolor": "#E5ECF6",
          "polar": {
           "angularaxis": {
            "gridcolor": "white",
            "linecolor": "white",
            "ticks": ""
           },
           "bgcolor": "#E5ECF6",
           "radialaxis": {
            "gridcolor": "white",
            "linecolor": "white",
            "ticks": ""
           }
          },
          "scene": {
           "xaxis": {
            "backgroundcolor": "#E5ECF6",
            "gridcolor": "white",
            "gridwidth": 2,
            "linecolor": "white",
            "showbackground": true,
            "ticks": "",
            "zerolinecolor": "white"
           },
           "yaxis": {
            "backgroundcolor": "#E5ECF6",
            "gridcolor": "white",
            "gridwidth": 2,
            "linecolor": "white",
            "showbackground": true,
            "ticks": "",
            "zerolinecolor": "white"
           },
           "zaxis": {
            "backgroundcolor": "#E5ECF6",
            "gridcolor": "white",
            "gridwidth": 2,
            "linecolor": "white",
            "showbackground": true,
            "ticks": "",
            "zerolinecolor": "white"
           }
          },
          "shapedefaults": {
           "line": {
            "color": "#2a3f5f"
           }
          },
          "ternary": {
           "aaxis": {
            "gridcolor": "white",
            "linecolor": "white",
            "ticks": ""
           },
           "baxis": {
            "gridcolor": "white",
            "linecolor": "white",
            "ticks": ""
           },
           "bgcolor": "#E5ECF6",
           "caxis": {
            "gridcolor": "white",
            "linecolor": "white",
            "ticks": ""
           }
          },
          "title": {
           "x": 0.05
          },
          "xaxis": {
           "automargin": true,
           "gridcolor": "white",
           "linecolor": "white",
           "ticks": "",
           "zerolinecolor": "white",
           "zerolinewidth": 2
          },
          "yaxis": {
           "automargin": true,
           "gridcolor": "white",
           "linecolor": "white",
           "ticks": "",
           "zerolinecolor": "white",
           "zerolinewidth": 2
          }
         }
        },
        "title": {
         "text": "Player Kills Regular Season"
        },
        "xaxis": {
         "title": {
          "text": "Game"
         }
        },
        "yaxis": {
         "title": {
          "text": "Kills"
         }
        }
       }
      },
      "text/html": [
       "<div>\n",
       "        \n",
       "        \n",
       "            <div id=\"de2477fa-cf70-4350-bbb0-ca01b585e4eb\" class=\"plotly-graph-div\" style=\"height:525px; width:100%;\"></div>\n",
       "            <script type=\"text/javascript\">\n",
       "                require([\"plotly\"], function(Plotly) {\n",
       "                    window.PLOTLYENV=window.PLOTLYENV || {};\n",
       "                    \n",
       "                if (document.getElementById(\"de2477fa-cf70-4350-bbb0-ca01b585e4eb\")) {\n",
       "                    Plotly.newPlot(\n",
       "                        'de2477fa-cf70-4350-bbb0-ca01b585e4eb',\n",
       "                        [{\"hoverinfo\": \"text\", \"hovertext\": [\"NY\", \"PAR\", \"TOR\", \"NY\", \"TOR\", \"NY\", \"DAL\", \"DAL\", \"ATL\", \"FL\", \"ATL\", \"FL\", \"FL\", \"FL\", \"ATL\", \"CHI\", \"CHI\", \"OGLA\", \"OGLA\", \"ATL\", \"ATL\", \"OGLA\", \"LAG\", \"LAG\", \"NY\", \"OGLA\", \"OGLA\", \"CHI\", \"CHI\", \"DAL\", \"PAR\", \"DAL\", \"DAL\", \"PAR\", \"CHI\", \"MIN\", \"NY\", \"CHI\", \"MIN\", \"NY\", \"SEA\", \"FL\", \"PAR\", \"SEA\", \"FL\", \"PAR\"], \"mode\": \"lines+markers\", \"name\": \"Wuskin Regular Season Kills\", \"type\": \"scatter\", \"x\": [0, 1, 2, 3, 4, 5, 6, 7, 8, 9, 10, 11, 12, 13, 14, 15, 16, 17, 18, 19, 20, 21, 22, 23, 24, 25, 26, 27, 28, 29, 30, 31, 32, 33, 34, 35, 36, 37, 38, 39, 40, 41, 42, 43, 44, 45], \"y\": [26.0, 21.0, 37.0, 28.0, 25.0, 23.0, 35.0, 30.0, 30.0, 29.0, 27.0, 23.0, 30.0, 28.0, 33.0, 15.0, 23.0, 34.0, 24.0, 8.0, 15.0, 30.0, 24.0, 20.0, 10.0, 26.0, 21.0, 16.0, 15.0, 20.0, 25.0, 15.0, 22.0, 28.0, 31.0, 26.0, 28.0, 26.0, 17.0, 22.0, 20.0, 17.0, 28.0, 12.0, 21.0, 15.0]}],\n",
       "                        {\"template\": {\"data\": {\"bar\": [{\"error_x\": {\"color\": \"#2a3f5f\"}, \"error_y\": {\"color\": \"#2a3f5f\"}, \"marker\": {\"line\": {\"color\": \"#E5ECF6\", \"width\": 0.5}}, \"type\": \"bar\"}], \"barpolar\": [{\"marker\": {\"line\": {\"color\": \"#E5ECF6\", \"width\": 0.5}}, \"type\": \"barpolar\"}], \"carpet\": [{\"aaxis\": {\"endlinecolor\": \"#2a3f5f\", \"gridcolor\": \"white\", \"linecolor\": \"white\", \"minorgridcolor\": \"white\", \"startlinecolor\": \"#2a3f5f\"}, \"baxis\": {\"endlinecolor\": \"#2a3f5f\", \"gridcolor\": \"white\", \"linecolor\": \"white\", \"minorgridcolor\": \"white\", \"startlinecolor\": \"#2a3f5f\"}, \"type\": \"carpet\"}], \"choropleth\": [{\"colorbar\": {\"outlinewidth\": 0, \"ticks\": \"\"}, \"type\": \"choropleth\"}], \"contour\": [{\"colorbar\": {\"outlinewidth\": 0, \"ticks\": \"\"}, \"colorscale\": [[0.0, \"#0d0887\"], [0.1111111111111111, \"#46039f\"], [0.2222222222222222, \"#7201a8\"], [0.3333333333333333, \"#9c179e\"], [0.4444444444444444, \"#bd3786\"], [0.5555555555555556, \"#d8576b\"], [0.6666666666666666, \"#ed7953\"], [0.7777777777777778, \"#fb9f3a\"], [0.8888888888888888, \"#fdca26\"], [1.0, \"#f0f921\"]], \"type\": \"contour\"}], \"contourcarpet\": [{\"colorbar\": {\"outlinewidth\": 0, \"ticks\": \"\"}, \"type\": \"contourcarpet\"}], \"heatmap\": [{\"colorbar\": {\"outlinewidth\": 0, \"ticks\": \"\"}, \"colorscale\": [[0.0, \"#0d0887\"], [0.1111111111111111, \"#46039f\"], [0.2222222222222222, \"#7201a8\"], [0.3333333333333333, \"#9c179e\"], [0.4444444444444444, \"#bd3786\"], [0.5555555555555556, \"#d8576b\"], [0.6666666666666666, \"#ed7953\"], [0.7777777777777778, \"#fb9f3a\"], [0.8888888888888888, \"#fdca26\"], [1.0, \"#f0f921\"]], \"type\": \"heatmap\"}], \"heatmapgl\": [{\"colorbar\": {\"outlinewidth\": 0, \"ticks\": \"\"}, \"colorscale\": [[0.0, \"#0d0887\"], [0.1111111111111111, \"#46039f\"], [0.2222222222222222, \"#7201a8\"], [0.3333333333333333, \"#9c179e\"], [0.4444444444444444, \"#bd3786\"], [0.5555555555555556, \"#d8576b\"], [0.6666666666666666, \"#ed7953\"], [0.7777777777777778, \"#fb9f3a\"], [0.8888888888888888, \"#fdca26\"], [1.0, \"#f0f921\"]], \"type\": \"heatmapgl\"}], \"histogram\": [{\"marker\": {\"colorbar\": {\"outlinewidth\": 0, \"ticks\": \"\"}}, \"type\": \"histogram\"}], \"histogram2d\": [{\"colorbar\": {\"outlinewidth\": 0, \"ticks\": \"\"}, \"colorscale\": [[0.0, \"#0d0887\"], [0.1111111111111111, \"#46039f\"], [0.2222222222222222, \"#7201a8\"], [0.3333333333333333, \"#9c179e\"], [0.4444444444444444, \"#bd3786\"], [0.5555555555555556, \"#d8576b\"], [0.6666666666666666, \"#ed7953\"], [0.7777777777777778, \"#fb9f3a\"], [0.8888888888888888, \"#fdca26\"], [1.0, \"#f0f921\"]], \"type\": \"histogram2d\"}], \"histogram2dcontour\": [{\"colorbar\": {\"outlinewidth\": 0, \"ticks\": \"\"}, \"colorscale\": [[0.0, \"#0d0887\"], [0.1111111111111111, \"#46039f\"], [0.2222222222222222, \"#7201a8\"], [0.3333333333333333, \"#9c179e\"], [0.4444444444444444, \"#bd3786\"], [0.5555555555555556, \"#d8576b\"], [0.6666666666666666, \"#ed7953\"], [0.7777777777777778, \"#fb9f3a\"], [0.8888888888888888, \"#fdca26\"], [1.0, \"#f0f921\"]], \"type\": \"histogram2dcontour\"}], \"mesh3d\": [{\"colorbar\": {\"outlinewidth\": 0, \"ticks\": \"\"}, \"type\": \"mesh3d\"}], \"parcoords\": [{\"line\": {\"colorbar\": {\"outlinewidth\": 0, \"ticks\": \"\"}}, \"type\": \"parcoords\"}], \"scatter\": [{\"marker\": {\"colorbar\": {\"outlinewidth\": 0, \"ticks\": \"\"}}, \"type\": \"scatter\"}], \"scatter3d\": [{\"line\": {\"colorbar\": {\"outlinewidth\": 0, \"ticks\": \"\"}}, \"marker\": {\"colorbar\": {\"outlinewidth\": 0, \"ticks\": \"\"}}, \"type\": \"scatter3d\"}], \"scattercarpet\": [{\"marker\": {\"colorbar\": {\"outlinewidth\": 0, \"ticks\": \"\"}}, \"type\": \"scattercarpet\"}], \"scattergeo\": [{\"marker\": {\"colorbar\": {\"outlinewidth\": 0, \"ticks\": \"\"}}, \"type\": \"scattergeo\"}], \"scattergl\": [{\"marker\": {\"colorbar\": {\"outlinewidth\": 0, \"ticks\": \"\"}}, \"type\": \"scattergl\"}], \"scattermapbox\": [{\"marker\": {\"colorbar\": {\"outlinewidth\": 0, \"ticks\": \"\"}}, \"type\": \"scattermapbox\"}], \"scatterpolar\": [{\"marker\": {\"colorbar\": {\"outlinewidth\": 0, \"ticks\": \"\"}}, \"type\": \"scatterpolar\"}], \"scatterpolargl\": [{\"marker\": {\"colorbar\": {\"outlinewidth\": 0, \"ticks\": \"\"}}, \"type\": \"scatterpolargl\"}], \"scatterternary\": [{\"marker\": {\"colorbar\": {\"outlinewidth\": 0, \"ticks\": \"\"}}, \"type\": \"scatterternary\"}], \"surface\": [{\"colorbar\": {\"outlinewidth\": 0, \"ticks\": \"\"}, \"colorscale\": [[0.0, \"#0d0887\"], [0.1111111111111111, \"#46039f\"], [0.2222222222222222, \"#7201a8\"], [0.3333333333333333, \"#9c179e\"], [0.4444444444444444, \"#bd3786\"], [0.5555555555555556, \"#d8576b\"], [0.6666666666666666, \"#ed7953\"], [0.7777777777777778, \"#fb9f3a\"], [0.8888888888888888, \"#fdca26\"], [1.0, \"#f0f921\"]], \"type\": \"surface\"}], \"table\": [{\"cells\": {\"fill\": {\"color\": \"#EBF0F8\"}, \"line\": {\"color\": \"white\"}}, \"header\": {\"fill\": {\"color\": \"#C8D4E3\"}, \"line\": {\"color\": \"white\"}}, \"type\": \"table\"}]}, \"layout\": {\"annotationdefaults\": {\"arrowcolor\": \"#2a3f5f\", \"arrowhead\": 0, \"arrowwidth\": 1}, \"colorscale\": {\"diverging\": [[0, \"#8e0152\"], [0.1, \"#c51b7d\"], [0.2, \"#de77ae\"], [0.3, \"#f1b6da\"], [0.4, \"#fde0ef\"], [0.5, \"#f7f7f7\"], [0.6, \"#e6f5d0\"], [0.7, \"#b8e186\"], [0.8, \"#7fbc41\"], [0.9, \"#4d9221\"], [1, \"#276419\"]], \"sequential\": [[0.0, \"#0d0887\"], [0.1111111111111111, \"#46039f\"], [0.2222222222222222, \"#7201a8\"], [0.3333333333333333, \"#9c179e\"], [0.4444444444444444, \"#bd3786\"], [0.5555555555555556, \"#d8576b\"], [0.6666666666666666, \"#ed7953\"], [0.7777777777777778, \"#fb9f3a\"], [0.8888888888888888, \"#fdca26\"], [1.0, \"#f0f921\"]], \"sequentialminus\": [[0.0, \"#0d0887\"], [0.1111111111111111, \"#46039f\"], [0.2222222222222222, \"#7201a8\"], [0.3333333333333333, \"#9c179e\"], [0.4444444444444444, \"#bd3786\"], [0.5555555555555556, \"#d8576b\"], [0.6666666666666666, \"#ed7953\"], [0.7777777777777778, \"#fb9f3a\"], [0.8888888888888888, \"#fdca26\"], [1.0, \"#f0f921\"]]}, \"colorway\": [\"#636efa\", \"#EF553B\", \"#00cc96\", \"#ab63fa\", \"#FFA15A\", \"#19d3f3\", \"#FF6692\", \"#B6E880\", \"#FF97FF\", \"#FECB52\"], \"font\": {\"color\": \"#2a3f5f\"}, \"geo\": {\"bgcolor\": \"white\", \"lakecolor\": \"white\", \"landcolor\": \"#E5ECF6\", \"showlakes\": true, \"showland\": true, \"subunitcolor\": \"white\"}, \"hoverlabel\": {\"align\": \"left\"}, \"hovermode\": \"closest\", \"mapbox\": {\"style\": \"light\"}, \"paper_bgcolor\": \"white\", \"plot_bgcolor\": \"#E5ECF6\", \"polar\": {\"angularaxis\": {\"gridcolor\": \"white\", \"linecolor\": \"white\", \"ticks\": \"\"}, \"bgcolor\": \"#E5ECF6\", \"radialaxis\": {\"gridcolor\": \"white\", \"linecolor\": \"white\", \"ticks\": \"\"}}, \"scene\": {\"xaxis\": {\"backgroundcolor\": \"#E5ECF6\", \"gridcolor\": \"white\", \"gridwidth\": 2, \"linecolor\": \"white\", \"showbackground\": true, \"ticks\": \"\", \"zerolinecolor\": \"white\"}, \"yaxis\": {\"backgroundcolor\": \"#E5ECF6\", \"gridcolor\": \"white\", \"gridwidth\": 2, \"linecolor\": \"white\", \"showbackground\": true, \"ticks\": \"\", \"zerolinecolor\": \"white\"}, \"zaxis\": {\"backgroundcolor\": \"#E5ECF6\", \"gridcolor\": \"white\", \"gridwidth\": 2, \"linecolor\": \"white\", \"showbackground\": true, \"ticks\": \"\", \"zerolinecolor\": \"white\"}}, \"shapedefaults\": {\"line\": {\"color\": \"#2a3f5f\"}}, \"ternary\": {\"aaxis\": {\"gridcolor\": \"white\", \"linecolor\": \"white\", \"ticks\": \"\"}, \"baxis\": {\"gridcolor\": \"white\", \"linecolor\": \"white\", \"ticks\": \"\"}, \"bgcolor\": \"#E5ECF6\", \"caxis\": {\"gridcolor\": \"white\", \"linecolor\": \"white\", \"ticks\": \"\"}}, \"title\": {\"x\": 0.05}, \"xaxis\": {\"automargin\": true, \"gridcolor\": \"white\", \"linecolor\": \"white\", \"ticks\": \"\", \"zerolinecolor\": \"white\", \"zerolinewidth\": 2}, \"yaxis\": {\"automargin\": true, \"gridcolor\": \"white\", \"linecolor\": \"white\", \"ticks\": \"\", \"zerolinecolor\": \"white\", \"zerolinewidth\": 2}}}, \"title\": {\"text\": \"Player Kills Regular Season\"}, \"xaxis\": {\"title\": {\"text\": \"Game\"}}, \"yaxis\": {\"title\": {\"text\": \"Kills\"}}},\n",
       "                        {\"responsive\": true}\n",
       "                    ).then(function(){\n",
       "                            \n",
       "var gd = document.getElementById('de2477fa-cf70-4350-bbb0-ca01b585e4eb');\n",
       "var x = new MutationObserver(function (mutations, observer) {{\n",
       "        var display = window.getComputedStyle(gd).display;\n",
       "        if (!display || display === 'none') {{\n",
       "            console.log([gd, 'removed!']);\n",
       "            Plotly.purge(gd);\n",
       "            observer.disconnect();\n",
       "        }}\n",
       "}});\n",
       "\n",
       "// Listen for the removal of the full notebook cells\n",
       "var notebookContainer = gd.closest('#notebook-container');\n",
       "if (notebookContainer) {{\n",
       "    x.observe(notebookContainer, {childList: true});\n",
       "}}\n",
       "\n",
       "// Listen for the clearing of the current output cell\n",
       "var outputEl = gd.closest('.output');\n",
       "if (outputEl) {{\n",
       "    x.observe(outputEl, {childList: true});\n",
       "}}\n",
       "\n",
       "                        })\n",
       "                };\n",
       "                });\n",
       "            </script>\n",
       "        </div>"
      ]
     },
     "metadata": {},
     "output_type": "display_data"
    }
   ],
   "source": [
    "fig.update_layout(title='Player Kills Regular Season',\n",
    "                   xaxis_title='Game',\n",
    "                   yaxis_title='Kills')"
   ]
  },
  {
   "cell_type": "code",
   "execution_count": null,
   "metadata": {},
   "outputs": [],
   "source": []
  }
 ],
 "metadata": {
  "kernelspec": {
   "display_name": "Python 3",
   "language": "python",
   "name": "python3"
  },
  "language_info": {
   "codemirror_mode": {
    "name": "ipython",
    "version": 3
   },
   "file_extension": ".py",
   "mimetype": "text/x-python",
   "name": "python",
   "nbconvert_exporter": "python",
   "pygments_lexer": "ipython3",
   "version": "3.7.3"
  }
 },
 "nbformat": 4,
 "nbformat_minor": 2
}
